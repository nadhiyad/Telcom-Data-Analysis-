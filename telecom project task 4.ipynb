{
 "cells": [
  {
   "cell_type": "code",
   "execution_count": 1,
   "metadata": {},
   "outputs": [],
   "source": [
    "import pandas as pd\n",
    "import numpy as np\n",
    "import seaborn as sns\n",
    "import matplotlib.pyplot as plt\n",
    "\n"
   ]
  },
  {
   "cell_type": "code",
   "execution_count": 2,
   "metadata": {},
   "outputs": [],
   "source": [
    "telecom_data=pd.read_excel(\"telcom_data.xlsx\")"
   ]
  },
  {
   "cell_type": "markdown",
   "metadata": {},
   "source": [
    "### Engagement Metrics"
   ]
  },
  {
   "cell_type": "code",
   "execution_count": 3,
   "metadata": {},
   "outputs": [],
   "source": [
    "engagement_metrics = telecom_data.groupby('MSISDN/Number').agg({\n",
    "    'Dur. (ms)': ['count', 'sum'],  # Session frequency and total duration\n",
    "    'Total DL (Bytes)': 'sum',\n",
    "    'Total UL (Bytes)': 'sum'\n",
    "}).reset_index()\n",
    "\n",
    "# Rename columns for clarity\n",
    "engagement_metrics.columns = ['MSISDN/Number', 'Session Frequency', 'Total Duration', 'Total DL', 'Total UL']\n"
   ]
  },
  {
   "cell_type": "code",
   "execution_count": 4,
   "metadata": {},
   "outputs": [
    {
     "data": {
      "text/html": [
       "<div>\n",
       "<style scoped>\n",
       "    .dataframe tbody tr th:only-of-type {\n",
       "        vertical-align: middle;\n",
       "    }\n",
       "\n",
       "    .dataframe tbody tr th {\n",
       "        vertical-align: top;\n",
       "    }\n",
       "\n",
       "    .dataframe thead th {\n",
       "        text-align: right;\n",
       "    }\n",
       "</style>\n",
       "<table border=\"1\" class=\"dataframe\">\n",
       "  <thead>\n",
       "    <tr style=\"text-align: right;\">\n",
       "      <th></th>\n",
       "      <th>MSISDN/Number</th>\n",
       "      <th>Session Frequency</th>\n",
       "      <th>Total Duration</th>\n",
       "      <th>Total DL</th>\n",
       "      <th>Total UL</th>\n",
       "    </tr>\n",
       "  </thead>\n",
       "  <tbody>\n",
       "    <tr>\n",
       "      <th>0</th>\n",
       "      <td>3.360100e+10</td>\n",
       "      <td>1</td>\n",
       "      <td>116720.0</td>\n",
       "      <td>8.426375e+08</td>\n",
       "      <td>36053108.0</td>\n",
       "    </tr>\n",
       "    <tr>\n",
       "      <th>1</th>\n",
       "      <td>3.360100e+10</td>\n",
       "      <td>1</td>\n",
       "      <td>181230.0</td>\n",
       "      <td>1.207552e+08</td>\n",
       "      <td>36104459.0</td>\n",
       "    </tr>\n",
       "    <tr>\n",
       "      <th>2</th>\n",
       "      <td>3.360100e+10</td>\n",
       "      <td>1</td>\n",
       "      <td>134969.0</td>\n",
       "      <td>5.566597e+08</td>\n",
       "      <td>39306820.0</td>\n",
       "    </tr>\n",
       "    <tr>\n",
       "      <th>3</th>\n",
       "      <td>3.360101e+10</td>\n",
       "      <td>1</td>\n",
       "      <td>49878.0</td>\n",
       "      <td>4.019932e+08</td>\n",
       "      <td>20327526.0</td>\n",
       "    </tr>\n",
       "    <tr>\n",
       "      <th>4</th>\n",
       "      <td>3.360101e+10</td>\n",
       "      <td>2</td>\n",
       "      <td>37104.0</td>\n",
       "      <td>1.363130e+09</td>\n",
       "      <td>94280527.0</td>\n",
       "    </tr>\n",
       "    <tr>\n",
       "      <th>...</th>\n",
       "      <td>...</td>\n",
       "      <td>...</td>\n",
       "      <td>...</td>\n",
       "      <td>...</td>\n",
       "      <td>...</td>\n",
       "    </tr>\n",
       "    <tr>\n",
       "      <th>106851</th>\n",
       "      <td>3.379000e+10</td>\n",
       "      <td>1</td>\n",
       "      <td>8810.0</td>\n",
       "      <td>6.879252e+08</td>\n",
       "      <td>26716429.0</td>\n",
       "    </tr>\n",
       "    <tr>\n",
       "      <th>106852</th>\n",
       "      <td>3.379000e+10</td>\n",
       "      <td>1</td>\n",
       "      <td>140988.0</td>\n",
       "      <td>4.445751e+08</td>\n",
       "      <td>35732243.0</td>\n",
       "    </tr>\n",
       "    <tr>\n",
       "      <th>106853</th>\n",
       "      <td>3.197021e+12</td>\n",
       "      <td>1</td>\n",
       "      <td>877385.0</td>\n",
       "      <td>1.948281e+08</td>\n",
       "      <td>37295915.0</td>\n",
       "    </tr>\n",
       "    <tr>\n",
       "      <th>106854</th>\n",
       "      <td>3.370000e+14</td>\n",
       "      <td>1</td>\n",
       "      <td>253030.0</td>\n",
       "      <td>5.396350e+08</td>\n",
       "      <td>56652839.0</td>\n",
       "    </tr>\n",
       "    <tr>\n",
       "      <th>106855</th>\n",
       "      <td>8.823971e+14</td>\n",
       "      <td>1</td>\n",
       "      <td>869844.0</td>\n",
       "      <td>7.869760e+07</td>\n",
       "      <td>60456049.0</td>\n",
       "    </tr>\n",
       "  </tbody>\n",
       "</table>\n",
       "<p>106856 rows × 5 columns</p>\n",
       "</div>"
      ],
      "text/plain": [
       "        MSISDN/Number  Session Frequency  Total Duration      Total DL  \\\n",
       "0        3.360100e+10                  1        116720.0  8.426375e+08   \n",
       "1        3.360100e+10                  1        181230.0  1.207552e+08   \n",
       "2        3.360100e+10                  1        134969.0  5.566597e+08   \n",
       "3        3.360101e+10                  1         49878.0  4.019932e+08   \n",
       "4        3.360101e+10                  2         37104.0  1.363130e+09   \n",
       "...               ...                ...             ...           ...   \n",
       "106851   3.379000e+10                  1          8810.0  6.879252e+08   \n",
       "106852   3.379000e+10                  1        140988.0  4.445751e+08   \n",
       "106853   3.197021e+12                  1        877385.0  1.948281e+08   \n",
       "106854   3.370000e+14                  1        253030.0  5.396350e+08   \n",
       "106855   8.823971e+14                  1        869844.0  7.869760e+07   \n",
       "\n",
       "          Total UL  \n",
       "0       36053108.0  \n",
       "1       36104459.0  \n",
       "2       39306820.0  \n",
       "3       20327526.0  \n",
       "4       94280527.0  \n",
       "...            ...  \n",
       "106851  26716429.0  \n",
       "106852  35732243.0  \n",
       "106853  37295915.0  \n",
       "106854  56652839.0  \n",
       "106855  60456049.0  \n",
       "\n",
       "[106856 rows x 5 columns]"
      ]
     },
     "execution_count": 4,
     "metadata": {},
     "output_type": "execute_result"
    }
   ],
   "source": [
    "engagement_metrics"
   ]
  },
  {
   "cell_type": "markdown",
   "metadata": {},
   "source": [
    "### Experience Metrics"
   ]
  },
  {
   "cell_type": "code",
   "execution_count": 5,
   "metadata": {},
   "outputs": [],
   "source": [
    "experience_metrics = telecom_data.groupby('MSISDN/Number').agg({\n",
    "    'TCP DL Retrans. Vol (Bytes)': 'sum',\n",
    "    'TCP UL Retrans. Vol (Bytes)': 'sum',\n",
    "    'Avg RTT DL (ms)': 'mean',\n",
    "    'Avg RTT UL (ms)': 'mean',\n",
    "    'Handset Type': lambda x: x.mode().iloc[0],\n",
    "    'Avg Bearer TP DL (kbps)': 'mean',\n",
    "    'Avg Bearer TP UL (kbps)': 'mean'\n",
    "}).reset_index()\n"
   ]
  },
  {
   "cell_type": "code",
   "execution_count": 6,
   "metadata": {},
   "outputs": [
    {
     "data": {
      "text/html": [
       "<div>\n",
       "<style scoped>\n",
       "    .dataframe tbody tr th:only-of-type {\n",
       "        vertical-align: middle;\n",
       "    }\n",
       "\n",
       "    .dataframe tbody tr th {\n",
       "        vertical-align: top;\n",
       "    }\n",
       "\n",
       "    .dataframe thead th {\n",
       "        text-align: right;\n",
       "    }\n",
       "</style>\n",
       "<table border=\"1\" class=\"dataframe\">\n",
       "  <thead>\n",
       "    <tr style=\"text-align: right;\">\n",
       "      <th></th>\n",
       "      <th>MSISDN/Number</th>\n",
       "      <th>TCP DL Retrans. Vol (Bytes)</th>\n",
       "      <th>TCP UL Retrans. Vol (Bytes)</th>\n",
       "      <th>Avg RTT DL (ms)</th>\n",
       "      <th>Avg RTT UL (ms)</th>\n",
       "      <th>Handset Type</th>\n",
       "      <th>Avg Bearer TP DL (kbps)</th>\n",
       "      <th>Avg Bearer TP UL (kbps)</th>\n",
       "    </tr>\n",
       "  </thead>\n",
       "  <tbody>\n",
       "    <tr>\n",
       "      <th>0</th>\n",
       "      <td>3.360100e+10</td>\n",
       "      <td>0.0</td>\n",
       "      <td>0.0</td>\n",
       "      <td>46.0</td>\n",
       "      <td>0.0</td>\n",
       "      <td>Huawei P20 Lite Huawei Nova 3E</td>\n",
       "      <td>37.0</td>\n",
       "      <td>39.0</td>\n",
       "    </tr>\n",
       "    <tr>\n",
       "      <th>1</th>\n",
       "      <td>3.360100e+10</td>\n",
       "      <td>0.0</td>\n",
       "      <td>0.0</td>\n",
       "      <td>30.0</td>\n",
       "      <td>1.0</td>\n",
       "      <td>Apple iPhone 7 (A1778)</td>\n",
       "      <td>48.0</td>\n",
       "      <td>51.0</td>\n",
       "    </tr>\n",
       "    <tr>\n",
       "      <th>2</th>\n",
       "      <td>3.360100e+10</td>\n",
       "      <td>0.0</td>\n",
       "      <td>0.0</td>\n",
       "      <td>NaN</td>\n",
       "      <td>NaN</td>\n",
       "      <td>undefined</td>\n",
       "      <td>48.0</td>\n",
       "      <td>49.0</td>\n",
       "    </tr>\n",
       "    <tr>\n",
       "      <th>3</th>\n",
       "      <td>3.360101e+10</td>\n",
       "      <td>1066.0</td>\n",
       "      <td>0.0</td>\n",
       "      <td>69.0</td>\n",
       "      <td>15.0</td>\n",
       "      <td>Apple iPhone 5S (A1457)</td>\n",
       "      <td>204.0</td>\n",
       "      <td>44.0</td>\n",
       "    </tr>\n",
       "    <tr>\n",
       "      <th>4</th>\n",
       "      <td>3.360101e+10</td>\n",
       "      <td>9349630.0</td>\n",
       "      <td>21202.0</td>\n",
       "      <td>57.0</td>\n",
       "      <td>2.5</td>\n",
       "      <td>Apple iPhone Se (A1723)</td>\n",
       "      <td>20197.5</td>\n",
       "      <td>8224.5</td>\n",
       "    </tr>\n",
       "    <tr>\n",
       "      <th>...</th>\n",
       "      <td>...</td>\n",
       "      <td>...</td>\n",
       "      <td>...</td>\n",
       "      <td>...</td>\n",
       "      <td>...</td>\n",
       "      <td>...</td>\n",
       "      <td>...</td>\n",
       "      <td>...</td>\n",
       "    </tr>\n",
       "    <tr>\n",
       "      <th>106851</th>\n",
       "      <td>3.379000e+10</td>\n",
       "      <td>215044.0</td>\n",
       "      <td>3001.0</td>\n",
       "      <td>42.0</td>\n",
       "      <td>10.0</td>\n",
       "      <td>Huawei Honor 9 Lite</td>\n",
       "      <td>9978.0</td>\n",
       "      <td>387.0</td>\n",
       "    </tr>\n",
       "    <tr>\n",
       "      <th>106852</th>\n",
       "      <td>3.379000e+10</td>\n",
       "      <td>0.0</td>\n",
       "      <td>0.0</td>\n",
       "      <td>34.0</td>\n",
       "      <td>6.0</td>\n",
       "      <td>Apple iPhone 8 Plus (A1897)</td>\n",
       "      <td>68.0</td>\n",
       "      <td>48.0</td>\n",
       "    </tr>\n",
       "    <tr>\n",
       "      <th>106853</th>\n",
       "      <td>3.197021e+12</td>\n",
       "      <td>0.0</td>\n",
       "      <td>0.0</td>\n",
       "      <td>NaN</td>\n",
       "      <td>NaN</td>\n",
       "      <td>Quectel Wireless. Quectel Ec25-E</td>\n",
       "      <td>1.0</td>\n",
       "      <td>0.0</td>\n",
       "    </tr>\n",
       "    <tr>\n",
       "      <th>106854</th>\n",
       "      <td>3.370000e+14</td>\n",
       "      <td>0.0</td>\n",
       "      <td>0.0</td>\n",
       "      <td>NaN</td>\n",
       "      <td>NaN</td>\n",
       "      <td>Huawei B525S-23A</td>\n",
       "      <td>11.0</td>\n",
       "      <td>22.0</td>\n",
       "    </tr>\n",
       "    <tr>\n",
       "      <th>106855</th>\n",
       "      <td>8.823971e+14</td>\n",
       "      <td>0.0</td>\n",
       "      <td>0.0</td>\n",
       "      <td>NaN</td>\n",
       "      <td>NaN</td>\n",
       "      <td>Quectel Wireless. Quectel Ec21-E</td>\n",
       "      <td>2.0</td>\n",
       "      <td>0.0</td>\n",
       "    </tr>\n",
       "  </tbody>\n",
       "</table>\n",
       "<p>106856 rows × 8 columns</p>\n",
       "</div>"
      ],
      "text/plain": [
       "        MSISDN/Number  TCP DL Retrans. Vol (Bytes)  \\\n",
       "0        3.360100e+10                          0.0   \n",
       "1        3.360100e+10                          0.0   \n",
       "2        3.360100e+10                          0.0   \n",
       "3        3.360101e+10                       1066.0   \n",
       "4        3.360101e+10                    9349630.0   \n",
       "...               ...                          ...   \n",
       "106851   3.379000e+10                     215044.0   \n",
       "106852   3.379000e+10                          0.0   \n",
       "106853   3.197021e+12                          0.0   \n",
       "106854   3.370000e+14                          0.0   \n",
       "106855   8.823971e+14                          0.0   \n",
       "\n",
       "        TCP UL Retrans. Vol (Bytes)  Avg RTT DL (ms)  Avg RTT UL (ms)  \\\n",
       "0                               0.0             46.0              0.0   \n",
       "1                               0.0             30.0              1.0   \n",
       "2                               0.0              NaN              NaN   \n",
       "3                               0.0             69.0             15.0   \n",
       "4                           21202.0             57.0              2.5   \n",
       "...                             ...              ...              ...   \n",
       "106851                       3001.0             42.0             10.0   \n",
       "106852                          0.0             34.0              6.0   \n",
       "106853                          0.0              NaN              NaN   \n",
       "106854                          0.0              NaN              NaN   \n",
       "106855                          0.0              NaN              NaN   \n",
       "\n",
       "                            Handset Type  Avg Bearer TP DL (kbps)  \\\n",
       "0         Huawei P20 Lite Huawei Nova 3E                     37.0   \n",
       "1                 Apple iPhone 7 (A1778)                     48.0   \n",
       "2                              undefined                     48.0   \n",
       "3                Apple iPhone 5S (A1457)                    204.0   \n",
       "4                Apple iPhone Se (A1723)                  20197.5   \n",
       "...                                  ...                      ...   \n",
       "106851               Huawei Honor 9 Lite                   9978.0   \n",
       "106852       Apple iPhone 8 Plus (A1897)                     68.0   \n",
       "106853  Quectel Wireless. Quectel Ec25-E                      1.0   \n",
       "106854                  Huawei B525S-23A                     11.0   \n",
       "106855  Quectel Wireless. Quectel Ec21-E                      2.0   \n",
       "\n",
       "        Avg Bearer TP UL (kbps)  \n",
       "0                          39.0  \n",
       "1                          51.0  \n",
       "2                          49.0  \n",
       "3                          44.0  \n",
       "4                        8224.5  \n",
       "...                         ...  \n",
       "106851                    387.0  \n",
       "106852                     48.0  \n",
       "106853                      0.0  \n",
       "106854                     22.0  \n",
       "106855                      0.0  \n",
       "\n",
       "[106856 rows x 8 columns]"
      ]
     },
     "execution_count": 6,
     "metadata": {},
     "output_type": "execute_result"
    }
   ],
   "source": [
    "experience_metrics"
   ]
  },
  {
   "cell_type": "markdown",
   "metadata": {},
   "source": [
    "#### Satisfaction Analysis : Combining Engagement Metrics and Experience Metrics"
   ]
  },
  {
   "cell_type": "code",
   "execution_count": 7,
   "metadata": {},
   "outputs": [],
   "source": [
    "satisfaction_analysis = pd.merge(engagement_metrics, experience_metrics, on='MSISDN/Number', how='inner')"
   ]
  },
  {
   "cell_type": "code",
   "execution_count": 8,
   "metadata": {},
   "outputs": [
    {
     "data": {
      "text/html": [
       "<div>\n",
       "<style scoped>\n",
       "    .dataframe tbody tr th:only-of-type {\n",
       "        vertical-align: middle;\n",
       "    }\n",
       "\n",
       "    .dataframe tbody tr th {\n",
       "        vertical-align: top;\n",
       "    }\n",
       "\n",
       "    .dataframe thead th {\n",
       "        text-align: right;\n",
       "    }\n",
       "</style>\n",
       "<table border=\"1\" class=\"dataframe\">\n",
       "  <thead>\n",
       "    <tr style=\"text-align: right;\">\n",
       "      <th></th>\n",
       "      <th>MSISDN/Number</th>\n",
       "      <th>Session Frequency</th>\n",
       "      <th>Total Duration</th>\n",
       "      <th>Total DL</th>\n",
       "      <th>Total UL</th>\n",
       "      <th>TCP DL Retrans. Vol (Bytes)</th>\n",
       "      <th>TCP UL Retrans. Vol (Bytes)</th>\n",
       "      <th>Avg RTT DL (ms)</th>\n",
       "      <th>Avg RTT UL (ms)</th>\n",
       "      <th>Handset Type</th>\n",
       "      <th>Avg Bearer TP DL (kbps)</th>\n",
       "      <th>Avg Bearer TP UL (kbps)</th>\n",
       "    </tr>\n",
       "  </thead>\n",
       "  <tbody>\n",
       "    <tr>\n",
       "      <th>0</th>\n",
       "      <td>3.360100e+10</td>\n",
       "      <td>1</td>\n",
       "      <td>116720.0</td>\n",
       "      <td>8.426375e+08</td>\n",
       "      <td>36053108.0</td>\n",
       "      <td>0.0</td>\n",
       "      <td>0.0</td>\n",
       "      <td>46.0</td>\n",
       "      <td>0.0</td>\n",
       "      <td>Huawei P20 Lite Huawei Nova 3E</td>\n",
       "      <td>37.0</td>\n",
       "      <td>39.0</td>\n",
       "    </tr>\n",
       "    <tr>\n",
       "      <th>1</th>\n",
       "      <td>3.360100e+10</td>\n",
       "      <td>1</td>\n",
       "      <td>181230.0</td>\n",
       "      <td>1.207552e+08</td>\n",
       "      <td>36104459.0</td>\n",
       "      <td>0.0</td>\n",
       "      <td>0.0</td>\n",
       "      <td>30.0</td>\n",
       "      <td>1.0</td>\n",
       "      <td>Apple iPhone 7 (A1778)</td>\n",
       "      <td>48.0</td>\n",
       "      <td>51.0</td>\n",
       "    </tr>\n",
       "    <tr>\n",
       "      <th>2</th>\n",
       "      <td>3.360100e+10</td>\n",
       "      <td>1</td>\n",
       "      <td>134969.0</td>\n",
       "      <td>5.566597e+08</td>\n",
       "      <td>39306820.0</td>\n",
       "      <td>0.0</td>\n",
       "      <td>0.0</td>\n",
       "      <td>NaN</td>\n",
       "      <td>NaN</td>\n",
       "      <td>undefined</td>\n",
       "      <td>48.0</td>\n",
       "      <td>49.0</td>\n",
       "    </tr>\n",
       "    <tr>\n",
       "      <th>3</th>\n",
       "      <td>3.360101e+10</td>\n",
       "      <td>1</td>\n",
       "      <td>49878.0</td>\n",
       "      <td>4.019932e+08</td>\n",
       "      <td>20327526.0</td>\n",
       "      <td>1066.0</td>\n",
       "      <td>0.0</td>\n",
       "      <td>69.0</td>\n",
       "      <td>15.0</td>\n",
       "      <td>Apple iPhone 5S (A1457)</td>\n",
       "      <td>204.0</td>\n",
       "      <td>44.0</td>\n",
       "    </tr>\n",
       "    <tr>\n",
       "      <th>4</th>\n",
       "      <td>3.360101e+10</td>\n",
       "      <td>2</td>\n",
       "      <td>37104.0</td>\n",
       "      <td>1.363130e+09</td>\n",
       "      <td>94280527.0</td>\n",
       "      <td>9349630.0</td>\n",
       "      <td>21202.0</td>\n",
       "      <td>57.0</td>\n",
       "      <td>2.5</td>\n",
       "      <td>Apple iPhone Se (A1723)</td>\n",
       "      <td>20197.5</td>\n",
       "      <td>8224.5</td>\n",
       "    </tr>\n",
       "  </tbody>\n",
       "</table>\n",
       "</div>"
      ],
      "text/plain": [
       "   MSISDN/Number  Session Frequency  Total Duration      Total DL    Total UL  \\\n",
       "0   3.360100e+10                  1        116720.0  8.426375e+08  36053108.0   \n",
       "1   3.360100e+10                  1        181230.0  1.207552e+08  36104459.0   \n",
       "2   3.360100e+10                  1        134969.0  5.566597e+08  39306820.0   \n",
       "3   3.360101e+10                  1         49878.0  4.019932e+08  20327526.0   \n",
       "4   3.360101e+10                  2         37104.0  1.363130e+09  94280527.0   \n",
       "\n",
       "   TCP DL Retrans. Vol (Bytes)  TCP UL Retrans. Vol (Bytes)  Avg RTT DL (ms)  \\\n",
       "0                          0.0                          0.0             46.0   \n",
       "1                          0.0                          0.0             30.0   \n",
       "2                          0.0                          0.0              NaN   \n",
       "3                       1066.0                          0.0             69.0   \n",
       "4                    9349630.0                      21202.0             57.0   \n",
       "\n",
       "   Avg RTT UL (ms)                    Handset Type  Avg Bearer TP DL (kbps)  \\\n",
       "0              0.0  Huawei P20 Lite Huawei Nova 3E                     37.0   \n",
       "1              1.0          Apple iPhone 7 (A1778)                     48.0   \n",
       "2              NaN                       undefined                     48.0   \n",
       "3             15.0         Apple iPhone 5S (A1457)                    204.0   \n",
       "4              2.5         Apple iPhone Se (A1723)                  20197.5   \n",
       "\n",
       "   Avg Bearer TP UL (kbps)  \n",
       "0                     39.0  \n",
       "1                     51.0  \n",
       "2                     49.0  \n",
       "3                     44.0  \n",
       "4                   8224.5  "
      ]
     },
     "execution_count": 8,
     "metadata": {},
     "output_type": "execute_result"
    }
   ],
   "source": [
    "satisfaction_analysis.head(5)"
   ]
  },
  {
   "cell_type": "code",
   "execution_count": 9,
   "metadata": {},
   "outputs": [
    {
     "name": "stdout",
     "output_type": "stream",
     "text": [
      "<class 'pandas.core.frame.DataFrame'>\n",
      "Int64Index: 106856 entries, 0 to 106855\n",
      "Data columns (total 12 columns):\n",
      " #   Column                       Non-Null Count   Dtype  \n",
      "---  ------                       --------------   -----  \n",
      " 0   MSISDN/Number                106856 non-null  float64\n",
      " 1   Session Frequency            106856 non-null  int64  \n",
      " 2   Total Duration               106856 non-null  float64\n",
      " 3   Total DL                     106856 non-null  float64\n",
      " 4   Total UL                     106856 non-null  float64\n",
      " 5   TCP DL Retrans. Vol (Bytes)  106856 non-null  float64\n",
      " 6   TCP UL Retrans. Vol (Bytes)  106856 non-null  float64\n",
      " 7   Avg RTT DL (ms)              88320 non-null   float64\n",
      " 8   Avg RTT UL (ms)              88333 non-null   float64\n",
      " 9   Handset Type                 106856 non-null  object \n",
      " 10  Avg Bearer TP DL (kbps)      106856 non-null  float64\n",
      " 11  Avg Bearer TP UL (kbps)      106856 non-null  float64\n",
      "dtypes: float64(10), int64(1), object(1)\n",
      "memory usage: 10.6+ MB\n"
     ]
    }
   ],
   "source": [
    "satisfaction_analysis.info()"
   ]
  },
  {
   "cell_type": "markdown",
   "metadata": {},
   "source": [
    "##### Identifying & Handling Missing Values"
   ]
  },
  {
   "cell_type": "code",
   "execution_count": 10,
   "metadata": {},
   "outputs": [
    {
     "data": {
      "text/plain": [
       "MSISDN/Number                      0\n",
       "Session Frequency                  0\n",
       "Total Duration                     0\n",
       "Total DL                           0\n",
       "Total UL                           0\n",
       "TCP DL Retrans. Vol (Bytes)        0\n",
       "TCP UL Retrans. Vol (Bytes)        0\n",
       "Avg RTT DL (ms)                18536\n",
       "Avg RTT UL (ms)                18523\n",
       "Handset Type                       0\n",
       "Avg Bearer TP DL (kbps)            0\n",
       "Avg Bearer TP UL (kbps)            0\n",
       "dtype: int64"
      ]
     },
     "execution_count": 10,
     "metadata": {},
     "output_type": "execute_result"
    }
   ],
   "source": [
    "satisfaction_analysis.isnull().sum()"
   ]
  },
  {
   "cell_type": "code",
   "execution_count": 11,
   "metadata": {},
   "outputs": [
    {
     "name": "stderr",
     "output_type": "stream",
     "text": [
      "/var/folders/p0/drbt9nr13s16r1m43px056hc0000gn/T/ipykernel_1700/430124063.py:1: FutureWarning: The default value of numeric_only in DataFrame.mean is deprecated. In a future version, it will default to False. In addition, specifying 'numeric_only=None' is deprecated. Select only valid columns or specify the value of numeric_only to silence this warning.\n",
      "  satisfaction_analysis= satisfaction_analysis.fillna(satisfaction_analysis.mean())\n"
     ]
    }
   ],
   "source": [
    "satisfaction_analysis= satisfaction_analysis.fillna(satisfaction_analysis.mean())"
   ]
  },
  {
   "cell_type": "code",
   "execution_count": 12,
   "metadata": {},
   "outputs": [
    {
     "data": {
      "text/plain": [
       "MSISDN/Number                  0\n",
       "Session Frequency              0\n",
       "Total Duration                 0\n",
       "Total DL                       0\n",
       "Total UL                       0\n",
       "TCP DL Retrans. Vol (Bytes)    0\n",
       "TCP UL Retrans. Vol (Bytes)    0\n",
       "Avg RTT DL (ms)                0\n",
       "Avg RTT UL (ms)                0\n",
       "Handset Type                   0\n",
       "Avg Bearer TP DL (kbps)        0\n",
       "Avg Bearer TP UL (kbps)        0\n",
       "dtype: int64"
      ]
     },
     "execution_count": 12,
     "metadata": {},
     "output_type": "execute_result"
    }
   ],
   "source": [
    "satisfaction_analysis.isnull().sum()"
   ]
  },
  {
   "cell_type": "markdown",
   "metadata": {},
   "source": [
    "#### K Mean Cluster for engagement metrics"
   ]
  },
  {
   "cell_type": "code",
   "execution_count": 13,
   "metadata": {},
   "outputs": [
    {
     "name": "stderr",
     "output_type": "stream",
     "text": [
      "/Users/jagsanad/anaconda3/lib/python3.11/site-packages/sklearn/cluster/_kmeans.py:870: FutureWarning: The default value of `n_init` will change from 10 to 'auto' in 1.4. Set the value of `n_init` explicitly to suppress the warning\n",
      "  warnings.warn(\n"
     ]
    }
   ],
   "source": [
    "from sklearn.cluster import KMeans\n",
    "\n",
    "kmeans = KMeans(n_clusters=2, random_state=42)  \n",
    "engagement_metrics['Cluster'] = kmeans.fit_predict(engagement_metrics[['Session Frequency', 'Total Duration', 'Total DL', 'Total UL']])"
   ]
  },
  {
   "cell_type": "code",
   "execution_count": 14,
   "metadata": {},
   "outputs": [
    {
     "data": {
      "text/html": [
       "<style>#sk-container-id-1 {color: black;background-color: white;}#sk-container-id-1 pre{padding: 0;}#sk-container-id-1 div.sk-toggleable {background-color: white;}#sk-container-id-1 label.sk-toggleable__label {cursor: pointer;display: block;width: 100%;margin-bottom: 0;padding: 0.3em;box-sizing: border-box;text-align: center;}#sk-container-id-1 label.sk-toggleable__label-arrow:before {content: \"▸\";float: left;margin-right: 0.25em;color: #696969;}#sk-container-id-1 label.sk-toggleable__label-arrow:hover:before {color: black;}#sk-container-id-1 div.sk-estimator:hover label.sk-toggleable__label-arrow:before {color: black;}#sk-container-id-1 div.sk-toggleable__content {max-height: 0;max-width: 0;overflow: hidden;text-align: left;background-color: #f0f8ff;}#sk-container-id-1 div.sk-toggleable__content pre {margin: 0.2em;color: black;border-radius: 0.25em;background-color: #f0f8ff;}#sk-container-id-1 input.sk-toggleable__control:checked~div.sk-toggleable__content {max-height: 200px;max-width: 100%;overflow: auto;}#sk-container-id-1 input.sk-toggleable__control:checked~label.sk-toggleable__label-arrow:before {content: \"▾\";}#sk-container-id-1 div.sk-estimator input.sk-toggleable__control:checked~label.sk-toggleable__label {background-color: #d4ebff;}#sk-container-id-1 div.sk-label input.sk-toggleable__control:checked~label.sk-toggleable__label {background-color: #d4ebff;}#sk-container-id-1 input.sk-hidden--visually {border: 0;clip: rect(1px 1px 1px 1px);clip: rect(1px, 1px, 1px, 1px);height: 1px;margin: -1px;overflow: hidden;padding: 0;position: absolute;width: 1px;}#sk-container-id-1 div.sk-estimator {font-family: monospace;background-color: #f0f8ff;border: 1px dotted black;border-radius: 0.25em;box-sizing: border-box;margin-bottom: 0.5em;}#sk-container-id-1 div.sk-estimator:hover {background-color: #d4ebff;}#sk-container-id-1 div.sk-parallel-item::after {content: \"\";width: 100%;border-bottom: 1px solid gray;flex-grow: 1;}#sk-container-id-1 div.sk-label:hover label.sk-toggleable__label {background-color: #d4ebff;}#sk-container-id-1 div.sk-serial::before {content: \"\";position: absolute;border-left: 1px solid gray;box-sizing: border-box;top: 0;bottom: 0;left: 50%;z-index: 0;}#sk-container-id-1 div.sk-serial {display: flex;flex-direction: column;align-items: center;background-color: white;padding-right: 0.2em;padding-left: 0.2em;position: relative;}#sk-container-id-1 div.sk-item {position: relative;z-index: 1;}#sk-container-id-1 div.sk-parallel {display: flex;align-items: stretch;justify-content: center;background-color: white;position: relative;}#sk-container-id-1 div.sk-item::before, #sk-container-id-1 div.sk-parallel-item::before {content: \"\";position: absolute;border-left: 1px solid gray;box-sizing: border-box;top: 0;bottom: 0;left: 50%;z-index: -1;}#sk-container-id-1 div.sk-parallel-item {display: flex;flex-direction: column;z-index: 1;position: relative;background-color: white;}#sk-container-id-1 div.sk-parallel-item:first-child::after {align-self: flex-end;width: 50%;}#sk-container-id-1 div.sk-parallel-item:last-child::after {align-self: flex-start;width: 50%;}#sk-container-id-1 div.sk-parallel-item:only-child::after {width: 0;}#sk-container-id-1 div.sk-dashed-wrapped {border: 1px dashed gray;margin: 0 0.4em 0.5em 0.4em;box-sizing: border-box;padding-bottom: 0.4em;background-color: white;}#sk-container-id-1 div.sk-label label {font-family: monospace;font-weight: bold;display: inline-block;line-height: 1.2em;}#sk-container-id-1 div.sk-label-container {text-align: center;}#sk-container-id-1 div.sk-container {/* jupyter's `normalize.less` sets `[hidden] { display: none; }` but bootstrap.min.css set `[hidden] { display: none !important; }` so we also need the `!important` here to be able to override the default hidden behavior on the sphinx rendered scikit-learn.org. See: https://github.com/scikit-learn/scikit-learn/issues/21755 */display: inline-block !important;position: relative;}#sk-container-id-1 div.sk-text-repr-fallback {display: none;}</style><div id=\"sk-container-id-1\" class=\"sk-top-container\"><div class=\"sk-text-repr-fallback\"><pre>KMeans(n_clusters=2, random_state=42)</pre><b>In a Jupyter environment, please rerun this cell to show the HTML representation or trust the notebook. <br />On GitHub, the HTML representation is unable to render, please try loading this page with nbviewer.org.</b></div><div class=\"sk-container\" hidden><div class=\"sk-item\"><div class=\"sk-estimator sk-toggleable\"><input class=\"sk-toggleable__control sk-hidden--visually\" id=\"sk-estimator-id-1\" type=\"checkbox\" checked><label for=\"sk-estimator-id-1\" class=\"sk-toggleable__label sk-toggleable__label-arrow\">KMeans</label><div class=\"sk-toggleable__content\"><pre>KMeans(n_clusters=2, random_state=42)</pre></div></div></div></div></div>"
      ],
      "text/plain": [
       "KMeans(n_clusters=2, random_state=42)"
      ]
     },
     "execution_count": 14,
     "metadata": {},
     "output_type": "execute_result"
    }
   ],
   "source": [
    "kmeans"
   ]
  },
  {
   "cell_type": "code",
   "execution_count": 105,
   "metadata": {},
   "outputs": [
    {
     "data": {
      "image/png": "[encoded data removed]",
      "text/plain": [
       "<Figure size 1000x600 with 1 Axes>"
      ]
     },
     "metadata": {},
     "output_type": "display_data"
    }
   ],
   "source": [
    "plt.figure(figsize=(10, 6))\n",
    "plt.scatter(engagement_metrics['Session Frequency'], engagement_metrics['Total Duration'], c=engagement_metrics['Cluster'], cmap='viridis', alpha=0.8)\n",
    "plt.title('K-Means Clustering of Engagement Metrics')\n",
    "plt.xlabel('Session Frequency')\n",
    "plt.ylabel('Total Duration')\n",
    "plt.show()"
   ]
  },
  {
   "cell_type": "markdown",
   "metadata": {},
   "source": [
    "##### Cluster Separation:\n",
    "\n",
    "* The scatter plot visually represents the distribution of customers based on their engagement metrics, specifically 'Session Frequency' and 'Total Duration'.\n",
    "* The two distinct colors (clusters) highlight the separation achieved by the K-Means algorithm.\n",
    "\n",
    "##### Cluster Characteristics:\n",
    "\n",
    "* Cluster 0 (Blue):\n",
    "\n",
    "Customers in this cluster tend to have lower 'Session Frequency' and 'Total Duration'.\n",
    "This group might comprise less active or occasional users who spend relatively less time on the network.\n",
    "\n",
    "* Cluster 1 (Yellow):\n",
    "\n",
    "Customers in this cluster exhibit higher 'Session Frequency' and 'Total Duration'.\n",
    "This cluster likely includes more active users who engage with the network frequently and have longer session durations.\n",
    "\n",
    "##### Strategic Insights:\n",
    "\n",
    "Understanding these distinct engagement patterns allows for targeted strategies based on user behavior.\n",
    "\n",
    "* Cluster 0 Targeting:\n",
    "\n",
    "Tailor marketing strategies or promotions to encourage increased session frequency and longer durations for Cluster 0.\n",
    "Explore incentives or features that might attract this group to spend more time on the network.\n",
    "\n",
    "* Cluster 1 Retention:\n",
    "\n",
    "Focus on maintaining high-quality services for Cluster 1, as they are already engaged.\n",
    "Introduce loyalty programs or personalized content to enhance their experience and encourage continued high engagement.\n",
    "\n",
    "\n",
    "#### Conclusion:\n",
    "\n",
    "* The clustering analysis reveals distinct engagement patterns among customers.\n",
    "* Tailoring business strategies based on these patterns can lead to more effective and personalized approaches, ultimately contributing to improved user satisfaction and potential revenue growth.\n",
    "* This clustering approach sets the groundwork for a more targeted and customer-centric business strategy, aligning the company's efforts with the diverse engagement behaviors observed within its user base."
   ]
  },
  {
   "cell_type": "markdown",
   "metadata": {},
   "source": [
    "#### Identify the less engaged cluster"
   ]
  },
  {
   "cell_type": "code",
   "execution_count": 106,
   "metadata": {},
   "outputs": [
    {
     "data": {
      "text/plain": [
       "0"
      ]
     },
     "execution_count": 106,
     "metadata": {},
     "output_type": "execute_result"
    }
   ],
   "source": [
    "less_engaged_cluster = engagement_metrics.groupby('Cluster').mean().idxmin()['Session Frequency']\n",
    "\n",
    "less_engaged_cluster"
   ]
  },
  {
   "cell_type": "markdown",
   "metadata": {},
   "source": [
    "##### Interpretation and conclusion\n",
    "\n",
    "* The output zero indicates that the cluster with the lowest mean 'Session Frequency' is identified as Cluster 0. In the context of the analysis, this suggests that Cluster 0 represents the less engaged cluster based on the metric 'Session Frequency'.\n",
    "\n",
    "* This information is valuable for decision-making, as it allows you to specifically target strategies and initiatives towards increasing engagement within Cluster 0, where users have a lower frequency of sessions. By understanding the characteristics of this less engaged cluster, you can tailor interventions to boost user activity and potentially improve overall engagement metrics."
   ]
  },
  {
   "cell_type": "code",
   "execution_count": 16,
   "metadata": {},
   "outputs": [
    {
     "data": {
      "text/plain": [
       "Index(['MSISDN/Number', 'Session Frequency', 'Total Duration', 'Total DL',\n",
       "       'Total UL', 'Cluster'],\n",
       "      dtype='object')"
      ]
     },
     "execution_count": 16,
     "metadata": {},
     "output_type": "execute_result"
    }
   ],
   "source": [
    "engagement_metrics.columns"
   ]
  },
  {
   "cell_type": "markdown",
   "metadata": {},
   "source": [
    "#### Calculate Euclidean distance for each user"
   ]
  },
  {
   "cell_type": "code",
   "execution_count": 17,
   "metadata": {},
   "outputs": [],
   "source": [
    "from scipy.spatial import distance\n",
    "\n",
    "\n",
    "less_engaged_centroid = engagement_metrics.loc[engagement_metrics['Cluster'] == less_engaged_cluster, ['Session Frequency', 'Total Duration', 'Total DL', 'Total UL']].mean().values\n",
    "\n",
    "engagement_metrics['Euclidean Distance'] = engagement_metrics.apply(lambda row: distance.euclidean(row[['Session Frequency', 'Total Duration', 'Total DL', 'Total UL']], less_engaged_centroid), axis=1)"
   ]
  },
  {
   "cell_type": "code",
   "execution_count": 18,
   "metadata": {},
   "outputs": [
    {
     "data": {
      "text/plain": [
       "0         3.541016e+08\n",
       "1         3.681564e+08\n",
       "2         6.845068e+07\n",
       "3         9.095833e+07\n",
       "4         8.756409e+08\n",
       "              ...     \n",
       "106851    2.003015e+08\n",
       "106852    4.575203e+07\n",
       "106853    2.940860e+08\n",
       "106854    5.168444e+07\n",
       "106855    4.102290e+08\n",
       "Name: Euclidean Distance, Length: 106856, dtype: float64"
      ]
     },
     "execution_count": 18,
     "metadata": {},
     "output_type": "execute_result"
    }
   ],
   "source": [
    "engagement_metrics['Euclidean Distance']"
   ]
  },
  {
   "cell_type": "code",
   "execution_count": 107,
   "metadata": {},
   "outputs": [
    {
     "data": {
      "image/png": "[encoded data removed]",
      "text/plain": [
       "<Figure size 800x600 with 1 Axes>"
      ]
     },
     "metadata": {},
     "output_type": "display_data"
    }
   ],
   "source": [
    "plt.figure(figsize=(8, 6))\n",
    "plt.hist(engagement_metrics['Euclidean Distance'], bins=50, color='skyblue', edgecolor='black')\n",
    "plt.title('Distribution of Euclidean Distances from Less Engaged Cluster Centroid')\n",
    "plt.xlabel('Euclidean Distance')\n",
    "plt.ylabel('Frequency')\n",
    "plt.show()"
   ]
  },
  {
   "cell_type": "markdown",
   "metadata": {},
   "source": [
    "##### Interpretation and Conclusion\n",
    "\n",
    "* The high frequency of distances between 0 and 0.5 suggests that a significant portion of the data points is closely clustered around the less engaged cluster centroid. This concentration may indicate a cohesive subgroup within the less engaged cluster.\n",
    "\n",
    "* As the distance increases beyond 0.5, the frequency decreases, indicating that fewer data points are located farther away from the centroid. These outlying points may represent instances where engagement metrics significantly differ from the central tendency of the less engaged cluster.\n",
    "\n",
    "* The observed distribution could imply a well-defined cluster structure. The majority of data points are tightly packed around the centroid, with fewer points scattered at greater distances. Understanding the characteristics of these distant points may provide insights into the variability within the less engaged cluster."
   ]
  },
  {
   "cell_type": "markdown",
   "metadata": {},
   "source": [
    "##### Plot for Euclidean Distance for Total Duration"
   ]
  },
  {
   "cell_type": "code",
   "execution_count": 19,
   "metadata": {},
   "outputs": [
    {
     "data": {
      "image/png": "[encoded data removed]",
      "text/plain": [
       "<Figure size 1000x600 with 1 Axes>"
      ]
     },
     "metadata": {},
     "output_type": "display_data"
    }
   ],
   "source": [
    "plt.figure(figsize=(10, 6))\n",
    "sns.scatterplot(x='Euclidean Distance', y='Total Duration', hue='Cluster', data=engagement_metrics, palette='viridis', alpha=0.7)\n",
    "plt.title('Engagement Scores and Clusters')\n",
    "plt.xlabel('Euclidean Distance to Less Engaged Cluster')\n",
    "plt.ylabel('Total Duration')\n",
    "plt.legend(title='Cluster')\n",
    "plt.show()"
   ]
  },
  {
   "cell_type": "markdown",
   "metadata": {},
   "source": [
    "##### Interpretation and Conclusion\n",
    "\n",
    "* By examining the scatter plot, it can be identified any discernible patterns or trends and observed clusters of points with similar Euclidean distances and Total Durations, indicating potential relationships between these variables.\n",
    "\n",
    "* The degree of separation or overlap between clusters can provide insights into the effectiveness of the clustering algorithm. Well-separated clusters suggest clear distinctions in the feature space.\n",
    "\n",
    "* Points that deviate from the general trend may represent outliers. These outliers could be instances where the engagement metrics significantly differ from the typical behavior within a cluster.\n",
    "\n",
    "* Analyzing the plot may help identify clusters with distinct engagement patterns and reveal potential correlations or dependencies between Euclidean Distance and Total Duration."
   ]
  },
  {
   "cell_type": "markdown",
   "metadata": {},
   "source": [
    "### K Means cluster for Experience Metrics"
   ]
  },
  {
   "cell_type": "code",
   "execution_count": 20,
   "metadata": {},
   "outputs": [
    {
     "data": {
      "text/plain": [
       "MSISDN/Number                      0\n",
       "TCP DL Retrans. Vol (Bytes)        0\n",
       "TCP UL Retrans. Vol (Bytes)        0\n",
       "Avg RTT DL (ms)                18536\n",
       "Avg RTT UL (ms)                18523\n",
       "Handset Type                       0\n",
       "Avg Bearer TP DL (kbps)            0\n",
       "Avg Bearer TP UL (kbps)            0\n",
       "dtype: int64"
      ]
     },
     "execution_count": 20,
     "metadata": {},
     "output_type": "execute_result"
    }
   ],
   "source": [
    "experience_metrics.isnull().sum()"
   ]
  },
  {
   "cell_type": "code",
   "execution_count": 21,
   "metadata": {},
   "outputs": [
    {
     "name": "stderr",
     "output_type": "stream",
     "text": [
      "/var/folders/p0/drbt9nr13s16r1m43px056hc0000gn/T/ipykernel_1700/3439145299.py:1: FutureWarning: The default value of numeric_only in DataFrame.mean is deprecated. In a future version, it will default to False. In addition, specifying 'numeric_only=None' is deprecated. Select only valid columns or specify the value of numeric_only to silence this warning.\n",
      "  experience_metrics= experience_metrics.fillna(experience_metrics.mean())\n"
     ]
    }
   ],
   "source": [
    "experience_metrics= experience_metrics.fillna(experience_metrics.mean())"
   ]
  },
  {
   "cell_type": "code",
   "execution_count": 22,
   "metadata": {},
   "outputs": [
    {
     "name": "stderr",
     "output_type": "stream",
     "text": [
      "/Users/jagsanad/anaconda3/lib/python3.11/site-packages/sklearn/cluster/_kmeans.py:870: FutureWarning: The default value of `n_init` will change from 10 to 'auto' in 1.4. Set the value of `n_init` explicitly to suppress the warning\n",
      "  warnings.warn(\n"
     ]
    }
   ],
   "source": [
    "kmeans_experience = KMeans(n_clusters=2, random_state=42)  # You can choose an appropriate number of clusters\n",
    "experience_metrics['Cluster'] = kmeans_experience.fit_predict(experience_metrics[['TCP DL Retrans. Vol (Bytes)', 'TCP UL Retrans. Vol (Bytes)',\n",
    "                                                                                       'Avg RTT DL (ms)', 'Avg RTT UL (ms)',\n",
    "                                                                                       'Avg Bearer TP DL (kbps)', 'Avg Bearer TP UL (kbps)']])"
   ]
  },
  {
   "cell_type": "markdown",
   "metadata": {},
   "source": [
    "#### Identify the cluster with the worst experience"
   ]
  },
  {
   "cell_type": "code",
   "execution_count": 108,
   "metadata": {},
   "outputs": [
    {
     "name": "stderr",
     "output_type": "stream",
     "text": [
      "/var/folders/p0/drbt9nr13s16r1m43px056hc0000gn/T/ipykernel_1700/2813854025.py:1: FutureWarning: The default value of numeric_only in DataFrameGroupBy.mean is deprecated. In a future version, numeric_only will default to False. Either specify numeric_only or select only columns which should be valid for the function.\n",
      "  worst_experience_cluster = experience_metrics.groupby('Cluster').mean().idxmax()['Avg RTT DL (ms)']\n"
     ]
    }
   ],
   "source": [
    "worst_experience_cluster = experience_metrics.groupby('Cluster').mean().idxmax()['Avg RTT DL (ms)']\n"
   ]
  },
  {
   "cell_type": "code",
   "execution_count": 109,
   "metadata": {},
   "outputs": [
    {
     "data": {
      "text/plain": [
       "0"
      ]
     },
     "execution_count": 109,
     "metadata": {},
     "output_type": "execute_result"
    }
   ],
   "source": [
    "worst_experience_cluster"
   ]
  },
  {
   "cell_type": "markdown",
   "metadata": {},
   "source": [
    "##### Interpretation & Conclusion\n",
    "\n",
    "* Cluster Identification:\n",
    "\n",
    "Cluster 0 has been identified as having the highest average value for the 'Avg RTT DL (ms)' metric among all clusters.\n",
    "\n",
    "* Worst Experience Metric - 'Avg RTT DL (ms)':\n",
    "\n",
    "The 'Avg RTT DL (ms)' metric is a key factor in determining the user experience, particularly related to the round-trip time for data transmission on the downlink (download) direction. Higher values of this metric generally indicate poorer network responsiveness.\n",
    "\n",
    "* Cluster-Specific Insights:\n",
    "\n",
    "Cluster 0 represents a subset of the dataset where users, on average, experience higher 'Avg RTT DL (ms)' values, indicating a potentially worse network performance in terms of downlink round-trip time.\n",
    "\n",
    "* Recommendations for Improvement:\n",
    "\n",
    "Identifying the cluster with the worst experience provides actionable insights for improvement. Strategies for enhancing network performance, reducing latency, or optimizing the downlink transmission in Cluster 0 may be prioritized to enhance the user experience for this specific group.\n",
    "\n",
    "* Application to Decision-Making:\n",
    "\n",
    "The identification of the worst experience cluster can guide decision-making in network optimization, resource allocation, and service improvement efforts. Targeted interventions or optimizations can be implemented to address the specific challenges faced by users in Cluster 0.\n",
    "\n",
    "* In summary, the analysis pinpoints Cluster 0 as having the worst experience based on the 'Avg RTT DL (ms)' metric. This information can be valuable for network optimization efforts and improving the overall user experience for this specific cluster."
   ]
  },
  {
   "cell_type": "markdown",
   "metadata": {},
   "source": [
    "#### Calculate Euclidean distance for each user"
   ]
  },
  {
   "cell_type": "code",
   "execution_count": 24,
   "metadata": {},
   "outputs": [],
   "source": [
    "worst_experience_centroid = experience_metrics.loc[experience_metrics['Cluster'] == worst_experience_cluster,\n",
    "                                                  ['TCP DL Retrans. Vol (Bytes)', 'TCP UL Retrans. Vol (Bytes)',\n",
    "                                                   'Avg RTT DL (ms)', 'Avg RTT UL (ms)',\n",
    "                                                   'Avg Bearer TP DL (kbps)', 'Avg Bearer TP UL (kbps)']].mean().values"
   ]
  },
  {
   "cell_type": "code",
   "execution_count": 25,
   "metadata": {},
   "outputs": [
    {
     "data": {
      "text/plain": [
       "array([5.73433511e+06, 3.67656331e+05, 1.19208093e+02, 1.67217260e+01,\n",
       "       1.15349893e+04, 1.50504664e+03])"
      ]
     },
     "execution_count": 25,
     "metadata": {},
     "output_type": "execute_result"
    }
   ],
   "source": [
    "worst_experience_centroid"
   ]
  },
  {
   "cell_type": "markdown",
   "metadata": {},
   "source": [
    "##### Interpretation and Conclusion:\n",
    "\n",
    "The mean values of these metrics provide insights into the network performance characteristics of the cluster identified as having the worst experience. Interpretations could include:\n",
    "\n",
    "* Retransmission Volumes: High values for TCP retransmission volumes suggest potential issues with data reliability and may indicate network congestion or packet loss.\n",
    "\n",
    "* Round-Trip Times: Higher round-trip times on both the downlink and uplink suggest delays in data transmission, affecting the responsiveness of the network.\n",
    "\n",
    "* Bearer Throughput: The average bearer throughput values indicate the average data transfer rates on both the downlink and uplink, providing insights into the efficiency of data delivery.\n",
    "\n",
    "* These metrics can guide further investigation and targeted improvements to address specific network challenges in the cluster identified as having the worst experience. Additionally, comparing these values to benchmarks or thresholds can help determine the severity of network performance issues.\n"
   ]
  },
  {
   "cell_type": "code",
   "execution_count": 26,
   "metadata": {},
   "outputs": [],
   "source": [
    "experience_metrics['Euclidean Distance'] = experience_metrics.apply(lambda row: distance.euclidean(\n",
    "    row[['TCP DL Retrans. Vol (Bytes)', 'TCP UL Retrans. Vol (Bytes)',\n",
    "         'Avg RTT DL (ms)', 'Avg RTT UL (ms)',\n",
    "         'Avg Bearer TP DL (kbps)', 'Avg Bearer TP UL (kbps)']], worst_experience_centroid), axis=1)"
   ]
  },
  {
   "cell_type": "code",
   "execution_count": 27,
   "metadata": {},
   "outputs": [
    {
     "data": {
      "text/plain": [
       "0         5.746121e+06\n",
       "1         5.746121e+06\n",
       "2         5.746121e+06\n",
       "3         5.745057e+06\n",
       "4         3.631874e+06\n",
       "              ...     \n",
       "106851    5.531325e+06\n",
       "106852    5.746121e+06\n",
       "106853    5.746121e+06\n",
       "106854    5.746121e+06\n",
       "106855    5.746121e+06\n",
       "Name: Euclidean Distance, Length: 106856, dtype: float64"
      ]
     },
     "execution_count": 27,
     "metadata": {},
     "output_type": "execute_result"
    }
   ],
   "source": [
    "experience_metrics['Euclidean Distance']"
   ]
  },
  {
   "cell_type": "markdown",
   "metadata": {},
   "source": [
    "##### Interpretation & Conclusion\n",
    "\n",
    "* The Euclidean distances calculated for each data point indicate significant deviations in network performance metrics from the centroid of the worst experience cluster.\n",
    "\n",
    "* Larger distances highlight outliers, signifying users or sessions with pronounced differences in network performance within the identified cluster.\n",
    "\n",
    "* Users with higher Euclidean distances warrant focused attention for network optimization efforts, aiming to address specific challenges they face.\n",
    "\n",
    "* The distances provide a quantitative measure of the diversity of user experiences within the worst experience cluster, aiding in tailored solutions and interventions.\n",
    "\n",
    "* Regular monitoring and updating of Euclidean distances allow for ongoing assessment and adaptation of strategies to improve overall user satisfaction.\n"
   ]
  },
  {
   "cell_type": "code",
   "execution_count": 28,
   "metadata": {},
   "outputs": [
    {
     "data": {
      "image/png": "[encoded data removed]",
      "text/plain": [
       "<Figure size 1000x600 with 1 Axes>"
      ]
     },
     "metadata": {},
     "output_type": "display_data"
    }
   ],
   "source": [
    "plt.figure(figsize=(10, 6))\n",
    "sns.scatterplot(x='Euclidean Distance', y='Avg RTT DL (ms)', hue='Cluster', data=experience_metrics, palette='viridis', alpha=0.7)\n",
    "plt.title('Experience Scores and Clusters')\n",
    "plt.xlabel('Euclidean Distance to Worst Experience Cluster')\n",
    "plt.ylabel('Avg RTT DL (ms)')\n",
    "plt.legend(title='Cluster')\n",
    "plt.show()"
   ]
  },
  {
   "cell_type": "markdown",
   "metadata": {},
   "source": [
    "##### Interpretation & Conclusion \n",
    "\n",
    "* The scatter plot visualizes the relationship between 'Euclidean Distance to Worst Experience Cluster' and 'Avg RTT DL (ms)' for data points in the 'experience_metrics' DataFrame.\n",
    "\n",
    "* Each point on the plot represents a user or session, with its position determined by both the Euclidean distance to the worst experience cluster centroid and the corresponding 'Avg RTT DL (ms)' value.\n",
    "\n",
    "* Points are color-coded based on their assigned clusters, providing a clear distinction between different user groups within the worst experience cluster.\n",
    "\n",
    "* The plot allows for the identification of patterns and trends, such as clusters of users with similar 'Avg RTT DL (ms)' values and their respective distances to the worst experience cluster.\n",
    "\n",
    "* Insights from this visualization can guide targeted interventions, helping to improve network performance for specific user groups and ultimately enhance overall user satisfaction.\n"
   ]
  },
  {
   "cell_type": "markdown",
   "metadata": {},
   "source": [
    "### Engagement Score"
   ]
  },
  {
   "cell_type": "code",
   "execution_count": 29,
   "metadata": {},
   "outputs": [],
   "source": [
    "from sklearn.metrics import euclidean_distances\n",
    "\n",
    "\n",
    "less_engaged_centroid = kmeans.cluster_centers_[less_engaged_cluster]\n",
    "\n",
    "# Calculate engagement score\n",
    "engagement_metrics['Engagement Score'] = euclidean_distances(\n",
    "    engagement_metrics[['Session Frequency', 'Total Duration', 'Total DL', 'Total UL']],\n",
    "    less_engaged_centroid.reshape(1, -1)  # Reshape the centroid to match the data format\n",
    ")"
   ]
  },
  {
   "cell_type": "code",
   "execution_count": 30,
   "metadata": {},
   "outputs": [
    {
     "data": {
      "text/plain": [
       "0         3.541990e+08\n",
       "1         3.680585e+08\n",
       "2         6.854672e+07\n",
       "3         9.086287e+07\n",
       "4         8.757389e+08\n",
       "              ...     \n",
       "106851    2.003979e+08\n",
       "106852    4.565574e+07\n",
       "106853    2.939881e+08\n",
       "106854    5.178200e+07\n",
       "106855    4.101316e+08\n",
       "Name: Engagement Score, Length: 106856, dtype: float64"
      ]
     },
     "execution_count": 30,
     "metadata": {},
     "output_type": "execute_result"
    }
   ],
   "source": [
    "engagement_metrics['Engagement Score']"
   ]
  },
  {
   "cell_type": "markdown",
   "metadata": {},
   "source": [
    "##### Interpretation & Conclusion \n",
    "\n",
    "* The 'Engagement Score' column contains numerical values, representing the calculated engagement scores for each corresponding data point.\n",
    "\n",
    "* Higher scores indicate greater dissimilarity or distance from the less engaged cluster centroid, suggesting lower engagement levels for those particular data points.\n",
    "\n",
    "* The engagement scores offer a quantitative measure of user engagement based on the specified metrics, providing insights into the diversity of engagement levels within the identified less engaged cluster."
   ]
  },
  {
   "cell_type": "markdown",
   "metadata": {},
   "source": [
    "### Experience Score"
   ]
  },
  {
   "cell_type": "code",
   "execution_count": 31,
   "metadata": {},
   "outputs": [],
   "source": [
    "from sklearn.preprocessing import MinMaxScaler\n",
    "\n",
    "scaler = MinMaxScaler()\n",
    "experience_metrics['Experience Score'] = 1 - scaler.fit_transform(experience_metrics[['Euclidean Distance']])"
   ]
  },
  {
   "cell_type": "code",
   "execution_count": 32,
   "metadata": {},
   "outputs": [
    {
     "data": {
      "text/plain": [
       "0         0.999317\n",
       "1         0.999317\n",
       "2         0.999317\n",
       "3         0.999317\n",
       "4         0.999571\n",
       "            ...   \n",
       "106851    0.999343\n",
       "106852    0.999317\n",
       "106853    0.999317\n",
       "106854    0.999317\n",
       "106855    0.999317\n",
       "Name: Experience Score, Length: 106856, dtype: float64"
      ]
     },
     "execution_count": 32,
     "metadata": {},
     "output_type": "execute_result"
    }
   ],
   "source": [
    "experience_metrics['Experience Score']"
   ]
  },
  {
   "cell_type": "markdown",
   "metadata": {},
   "source": [
    "##### Interpretation & Conclusion\n",
    "\n",
    "* The Min-Max scaling ensures that the scores are normalized between 0 and 1, providing a consistent scale for the experience scores.\n",
    "\n",
    "* The resulting 'Experience Score' column contains numerical values, with higher scores indicating better network performance or user experience.\n",
    "\n",
    "* The subtraction of the scaled values from 1 ensures that a higher 'Euclidean Distance' (indicating worse performance) corresponds to a lower 'Experience Score.'\n",
    "\n",
    "* The normalized scores are useful for comparative analysis and visualization, allowing for a standardized representation of the network performance across different users or sessions."
   ]
  },
  {
   "cell_type": "markdown",
   "metadata": {},
   "source": [
    "### Satisfaction Score"
   ]
  },
  {
   "cell_type": "code",
   "execution_count": 33,
   "metadata": {},
   "outputs": [
    {
     "data": {
      "text/plain": [
       "0         1.770995e+08\n",
       "1         1.840292e+08\n",
       "2         3.427336e+07\n",
       "3         4.543143e+07\n",
       "4         4.378694e+08\n",
       "              ...     \n",
       "106851    1.001989e+08\n",
       "106852    2.282787e+07\n",
       "106853    1.469940e+08\n",
       "106854    2.589100e+07\n",
       "106855    2.050658e+08\n",
       "Name: Satisfaction Score, Length: 106856, dtype: float64"
      ]
     },
     "execution_count": 33,
     "metadata": {},
     "output_type": "execute_result"
    }
   ],
   "source": [
    "satisfaction_analysis['Satisfaction Score'] = (engagement_metrics['Engagement Score'] + experience_metrics['Experience Score']) / 2\n",
    "satisfaction_analysis['Satisfaction Score']"
   ]
  },
  {
   "cell_type": "markdown",
   "metadata": {},
   "source": [
    "##### Interpretation & Conclusion\n",
    "\n",
    "* The Satisfaction Score is intended to offer a balanced perspective, taking into account both user engagement and network experience.\n",
    "\n",
    "* Higher Satisfaction Scores indicate more satisfied users, while lower scores may highlight areas for improvement."
   ]
  },
  {
   "cell_type": "markdown",
   "metadata": {},
   "source": [
    "#### Top 10 Satisfied Customers"
   ]
  },
  {
   "cell_type": "code",
   "execution_count": 34,
   "metadata": {},
   "outputs": [
    {
     "name": "stdout",
     "output_type": "stream",
     "text": [
      "       MSISDN/Number  Satisfaction Score\n",
      "6437    3.361489e+10        3.847464e+09\n",
      "92923   3.376054e+10        3.675987e+09\n",
      "13180   3.362578e+10        3.656646e+09\n",
      "76363   3.367588e+10        3.420886e+09\n",
      "13526   3.362632e+10        3.420610e+09\n",
      "37052   3.365973e+10        3.309067e+09\n",
      "63028   3.366646e+10        3.212378e+09\n",
      "92577   3.376041e+10        3.070265e+09\n",
      "57241   3.366471e+10        2.963647e+09\n",
      "86455   3.369879e+10        2.771490e+09\n"
     ]
    }
   ],
   "source": [
    "\n",
    "top_10_satisfied_customers = satisfaction_analysis.nlargest(10, 'Satisfaction Score')[['MSISDN/Number', 'Satisfaction Score']]\n",
    "print(top_10_satisfied_customers)"
   ]
  },
  {
   "cell_type": "markdown",
   "metadata": {},
   "source": [
    "##### Interpretation & Conclusion\n",
    "\n",
    "* Identified top 10 highly satisfied customers based on exceptional Satisfaction Scores.\n",
    "\n",
    "* Their experiences and engagements with the network were outstanding, as reflected by significantly higher scores compared to others.\n",
    "\n",
    "* Positive network interactions, including seamless sessions, longer durations, and extensive data usage, likely contributed to their high Satisfaction Scores.\n",
    "\n",
    "* Key metrics influencing satisfaction include session frequency, total duration, data usage, and network responsiveness.\n",
    "\n",
    "* Addressing issues related to session quality, duration, and network performance for users with lower Satisfaction Scores could enhance overall satisfaction.\n",
    "\n",
    "* Telecom operators can use these insights for strategic decision-making, resource allocation, and targeted improvements in the network infrastructure.\n",
    "\n",
    "* Implementing a customer-centric approach in network optimization and service delivery is essential for maintaining and improving overall customer satisfaction."
   ]
  },
  {
   "cell_type": "code",
   "execution_count": 35,
   "metadata": {},
   "outputs": [
    {
     "data": {
      "image/png": "[encoded data removed]",
      "text/plain": [
       "<Figure size 1000x600 with 1 Axes>"
      ]
     },
     "metadata": {},
     "output_type": "display_data"
    }
   ],
   "source": [
    "\n",
    "top_10_satisfied_customers['MSISDN/Number'] = top_10_satisfied_customers['MSISDN/Number'].astype(str)\n",
    "\n",
    "colors = sns.color_palette('husl', n_colors=len(top_10_satisfied_customers))\n",
    "\n",
    "plt.figure(figsize=(10, 6))\n",
    "plt.bar(top_10_satisfied_customers['MSISDN/Number'], top_10_satisfied_customers['Satisfaction Score'], color=colors)\n",
    "plt.title('Top 10 Satisfied Customers')\n",
    "plt.xlabel('MSISDN/Number')\n",
    "plt.ylabel('Satisfaction Score')\n",
    "plt.xticks(rotation=45, ha='right') \n",
    "plt.tight_layout()\n",
    "plt.show()"
   ]
  },
  {
   "cell_type": "markdown",
   "metadata": {},
   "source": [
    "###  Build a Regression Model"
   ]
  },
  {
   "cell_type": "markdown",
   "metadata": {},
   "source": [
    "#### LINEAR REGRESSION"
   ]
  },
  {
   "cell_type": "code",
   "execution_count": 36,
   "metadata": {},
   "outputs": [],
   "source": [
    "from sklearn.model_selection import train_test_split\n",
    "from sklearn.linear_model import LinearRegression\n",
    "from sklearn.metrics import mean_squared_error"
   ]
  },
  {
   "cell_type": "code",
   "execution_count": 37,
   "metadata": {},
   "outputs": [
    {
     "data": {
      "text/plain": [
       "Index(['MSISDN/Number', 'Session Frequency', 'Total Duration', 'Total DL',\n",
       "       'Total UL', 'TCP DL Retrans. Vol (Bytes)',\n",
       "       'TCP UL Retrans. Vol (Bytes)', 'Avg RTT DL (ms)', 'Avg RTT UL (ms)',\n",
       "       'Handset Type', 'Avg Bearer TP DL (kbps)', 'Avg Bearer TP UL (kbps)',\n",
       "       'Satisfaction Score'],\n",
       "      dtype='object')"
      ]
     },
     "execution_count": 37,
     "metadata": {},
     "output_type": "execute_result"
    }
   ],
   "source": [
    "satisfaction_analysis.columns"
   ]
  },
  {
   "cell_type": "code",
   "execution_count": 38,
   "metadata": {},
   "outputs": [],
   "source": [
    "x = satisfaction_analysis[['Session Frequency', 'Total Duration', 'Total DL',\n",
    "       'Total UL']]\n",
    "y = satisfaction_analysis['Satisfaction Score']"
   ]
  },
  {
   "cell_type": "code",
   "execution_count": 39,
   "metadata": {},
   "outputs": [],
   "source": [
    "x_train, x_test, y_train, y_test = train_test_split(x, y, test_size = 0.2, random_state = 0)"
   ]
  },
  {
   "cell_type": "code",
   "execution_count": 40,
   "metadata": {},
   "outputs": [
    {
     "data": {
      "text/html": [
       "<style>#sk-container-id-2 {color: black;background-color: white;}#sk-container-id-2 pre{padding: 0;}#sk-container-id-2 div.sk-toggleable {background-color: white;}#sk-container-id-2 label.sk-toggleable__label {cursor: pointer;display: block;width: 100%;margin-bottom: 0;padding: 0.3em;box-sizing: border-box;text-align: center;}#sk-container-id-2 label.sk-toggleable__label-arrow:before {content: \"▸\";float: left;margin-right: 0.25em;color: #696969;}#sk-container-id-2 label.sk-toggleable__label-arrow:hover:before {color: black;}#sk-container-id-2 div.sk-estimator:hover label.sk-toggleable__label-arrow:before {color: black;}#sk-container-id-2 div.sk-toggleable__content {max-height: 0;max-width: 0;overflow: hidden;text-align: left;background-color: #f0f8ff;}#sk-container-id-2 div.sk-toggleable__content pre {margin: 0.2em;color: black;border-radius: 0.25em;background-color: #f0f8ff;}#sk-container-id-2 input.sk-toggleable__control:checked~div.sk-toggleable__content {max-height: 200px;max-width: 100%;overflow: auto;}#sk-container-id-2 input.sk-toggleable__control:checked~label.sk-toggleable__label-arrow:before {content: \"▾\";}#sk-container-id-2 div.sk-estimator input.sk-toggleable__control:checked~label.sk-toggleable__label {background-color: #d4ebff;}#sk-container-id-2 div.sk-label input.sk-toggleable__control:checked~label.sk-toggleable__label {background-color: #d4ebff;}#sk-container-id-2 input.sk-hidden--visually {border: 0;clip: rect(1px 1px 1px 1px);clip: rect(1px, 1px, 1px, 1px);height: 1px;margin: -1px;overflow: hidden;padding: 0;position: absolute;width: 1px;}#sk-container-id-2 div.sk-estimator {font-family: monospace;background-color: #f0f8ff;border: 1px dotted black;border-radius: 0.25em;box-sizing: border-box;margin-bottom: 0.5em;}#sk-container-id-2 div.sk-estimator:hover {background-color: #d4ebff;}#sk-container-id-2 div.sk-parallel-item::after {content: \"\";width: 100%;border-bottom: 1px solid gray;flex-grow: 1;}#sk-container-id-2 div.sk-label:hover label.sk-toggleable__label {background-color: #d4ebff;}#sk-container-id-2 div.sk-serial::before {content: \"\";position: absolute;border-left: 1px solid gray;box-sizing: border-box;top: 0;bottom: 0;left: 50%;z-index: 0;}#sk-container-id-2 div.sk-serial {display: flex;flex-direction: column;align-items: center;background-color: white;padding-right: 0.2em;padding-left: 0.2em;position: relative;}#sk-container-id-2 div.sk-item {position: relative;z-index: 1;}#sk-container-id-2 div.sk-parallel {display: flex;align-items: stretch;justify-content: center;background-color: white;position: relative;}#sk-container-id-2 div.sk-item::before, #sk-container-id-2 div.sk-parallel-item::before {content: \"\";position: absolute;border-left: 1px solid gray;box-sizing: border-box;top: 0;bottom: 0;left: 50%;z-index: -1;}#sk-container-id-2 div.sk-parallel-item {display: flex;flex-direction: column;z-index: 1;position: relative;background-color: white;}#sk-container-id-2 div.sk-parallel-item:first-child::after {align-self: flex-end;width: 50%;}#sk-container-id-2 div.sk-parallel-item:last-child::after {align-self: flex-start;width: 50%;}#sk-container-id-2 div.sk-parallel-item:only-child::after {width: 0;}#sk-container-id-2 div.sk-dashed-wrapped {border: 1px dashed gray;margin: 0 0.4em 0.5em 0.4em;box-sizing: border-box;padding-bottom: 0.4em;background-color: white;}#sk-container-id-2 div.sk-label label {font-family: monospace;font-weight: bold;display: inline-block;line-height: 1.2em;}#sk-container-id-2 div.sk-label-container {text-align: center;}#sk-container-id-2 div.sk-container {/* jupyter's `normalize.less` sets `[hidden] { display: none; }` but bootstrap.min.css set `[hidden] { display: none !important; }` so we also need the `!important` here to be able to override the default hidden behavior on the sphinx rendered scikit-learn.org. See: https://github.com/scikit-learn/scikit-learn/issues/21755 */display: inline-block !important;position: relative;}#sk-container-id-2 div.sk-text-repr-fallback {display: none;}</style><div id=\"sk-container-id-2\" class=\"sk-top-container\"><div class=\"sk-text-repr-fallback\"><pre>LinearRegression()</pre><b>In a Jupyter environment, please rerun this cell to show the HTML representation or trust the notebook. <br />On GitHub, the HTML representation is unable to render, please try loading this page with nbviewer.org.</b></div><div class=\"sk-container\" hidden><div class=\"sk-item\"><div class=\"sk-estimator sk-toggleable\"><input class=\"sk-toggleable__control sk-hidden--visually\" id=\"sk-estimator-id-2\" type=\"checkbox\" checked><label for=\"sk-estimator-id-2\" class=\"sk-toggleable__label sk-toggleable__label-arrow\">LinearRegression</label><div class=\"sk-toggleable__content\"><pre>LinearRegression()</pre></div></div></div></div></div>"
      ],
      "text/plain": [
       "LinearRegression()"
      ]
     },
     "execution_count": 40,
     "metadata": {},
     "output_type": "execute_result"
    }
   ],
   "source": [
    "linear_regression = LinearRegression()\n",
    "linear_regression"
   ]
  },
  {
   "cell_type": "code",
   "execution_count": 41,
   "metadata": {},
   "outputs": [
    {
     "data": {
      "text/html": [
       "<style>#sk-container-id-3 {color: black;background-color: white;}#sk-container-id-3 pre{padding: 0;}#sk-container-id-3 div.sk-toggleable {background-color: white;}#sk-container-id-3 label.sk-toggleable__label {cursor: pointer;display: block;width: 100%;margin-bottom: 0;padding: 0.3em;box-sizing: border-box;text-align: center;}#sk-container-id-3 label.sk-toggleable__label-arrow:before {content: \"▸\";float: left;margin-right: 0.25em;color: #696969;}#sk-container-id-3 label.sk-toggleable__label-arrow:hover:before {color: black;}#sk-container-id-3 div.sk-estimator:hover label.sk-toggleable__label-arrow:before {color: black;}#sk-container-id-3 div.sk-toggleable__content {max-height: 0;max-width: 0;overflow: hidden;text-align: left;background-color: #f0f8ff;}#sk-container-id-3 div.sk-toggleable__content pre {margin: 0.2em;color: black;border-radius: 0.25em;background-color: #f0f8ff;}#sk-container-id-3 input.sk-toggleable__control:checked~div.sk-toggleable__content {max-height: 200px;max-width: 100%;overflow: auto;}#sk-container-id-3 input.sk-toggleable__control:checked~label.sk-toggleable__label-arrow:before {content: \"▾\";}#sk-container-id-3 div.sk-estimator input.sk-toggleable__control:checked~label.sk-toggleable__label {background-color: #d4ebff;}#sk-container-id-3 div.sk-label input.sk-toggleable__control:checked~label.sk-toggleable__label {background-color: #d4ebff;}#sk-container-id-3 input.sk-hidden--visually {border: 0;clip: rect(1px 1px 1px 1px);clip: rect(1px, 1px, 1px, 1px);height: 1px;margin: -1px;overflow: hidden;padding: 0;position: absolute;width: 1px;}#sk-container-id-3 div.sk-estimator {font-family: monospace;background-color: #f0f8ff;border: 1px dotted black;border-radius: 0.25em;box-sizing: border-box;margin-bottom: 0.5em;}#sk-container-id-3 div.sk-estimator:hover {background-color: #d4ebff;}#sk-container-id-3 div.sk-parallel-item::after {content: \"\";width: 100%;border-bottom: 1px solid gray;flex-grow: 1;}#sk-container-id-3 div.sk-label:hover label.sk-toggleable__label {background-color: #d4ebff;}#sk-container-id-3 div.sk-serial::before {content: \"\";position: absolute;border-left: 1px solid gray;box-sizing: border-box;top: 0;bottom: 0;left: 50%;z-index: 0;}#sk-container-id-3 div.sk-serial {display: flex;flex-direction: column;align-items: center;background-color: white;padding-right: 0.2em;padding-left: 0.2em;position: relative;}#sk-container-id-3 div.sk-item {position: relative;z-index: 1;}#sk-container-id-3 div.sk-parallel {display: flex;align-items: stretch;justify-content: center;background-color: white;position: relative;}#sk-container-id-3 div.sk-item::before, #sk-container-id-3 div.sk-parallel-item::before {content: \"\";position: absolute;border-left: 1px solid gray;box-sizing: border-box;top: 0;bottom: 0;left: 50%;z-index: -1;}#sk-container-id-3 div.sk-parallel-item {display: flex;flex-direction: column;z-index: 1;position: relative;background-color: white;}#sk-container-id-3 div.sk-parallel-item:first-child::after {align-self: flex-end;width: 50%;}#sk-container-id-3 div.sk-parallel-item:last-child::after {align-self: flex-start;width: 50%;}#sk-container-id-3 div.sk-parallel-item:only-child::after {width: 0;}#sk-container-id-3 div.sk-dashed-wrapped {border: 1px dashed gray;margin: 0 0.4em 0.5em 0.4em;box-sizing: border-box;padding-bottom: 0.4em;background-color: white;}#sk-container-id-3 div.sk-label label {font-family: monospace;font-weight: bold;display: inline-block;line-height: 1.2em;}#sk-container-id-3 div.sk-label-container {text-align: center;}#sk-container-id-3 div.sk-container {/* jupyter's `normalize.less` sets `[hidden] { display: none; }` but bootstrap.min.css set `[hidden] { display: none !important; }` so we also need the `!important` here to be able to override the default hidden behavior on the sphinx rendered scikit-learn.org. See: https://github.com/scikit-learn/scikit-learn/issues/21755 */display: inline-block !important;position: relative;}#sk-container-id-3 div.sk-text-repr-fallback {display: none;}</style><div id=\"sk-container-id-3\" class=\"sk-top-container\"><div class=\"sk-text-repr-fallback\"><pre>LinearRegression()</pre><b>In a Jupyter environment, please rerun this cell to show the HTML representation or trust the notebook. <br />On GitHub, the HTML representation is unable to render, please try loading this page with nbviewer.org.</b></div><div class=\"sk-container\" hidden><div class=\"sk-item\"><div class=\"sk-estimator sk-toggleable\"><input class=\"sk-toggleable__control sk-hidden--visually\" id=\"sk-estimator-id-3\" type=\"checkbox\" checked><label for=\"sk-estimator-id-3\" class=\"sk-toggleable__label sk-toggleable__label-arrow\">LinearRegression</label><div class=\"sk-toggleable__content\"><pre>LinearRegression()</pre></div></div></div></div></div>"
      ],
      "text/plain": [
       "LinearRegression()"
      ]
     },
     "execution_count": 41,
     "metadata": {},
     "output_type": "execute_result"
    }
   ],
   "source": [
    "linear_regression.fit(x_train, y_train)"
   ]
  },
  {
   "cell_type": "code",
   "execution_count": 42,
   "metadata": {},
   "outputs": [
    {
     "data": {
      "text/html": [
       "<div>\n",
       "<style scoped>\n",
       "    .dataframe tbody tr th:only-of-type {\n",
       "        vertical-align: middle;\n",
       "    }\n",
       "\n",
       "    .dataframe tbody tr th {\n",
       "        vertical-align: top;\n",
       "    }\n",
       "\n",
       "    .dataframe thead th {\n",
       "        text-align: right;\n",
       "    }\n",
       "</style>\n",
       "<table border=\"1\" class=\"dataframe\">\n",
       "  <thead>\n",
       "    <tr style=\"text-align: right;\">\n",
       "      <th></th>\n",
       "      <th>Session Frequency</th>\n",
       "      <th>Total Duration</th>\n",
       "      <th>Total DL</th>\n",
       "      <th>Total UL</th>\n",
       "    </tr>\n",
       "  </thead>\n",
       "  <tbody>\n",
       "    <tr>\n",
       "      <th>10268</th>\n",
       "      <td>1</td>\n",
       "      <td>10540.0</td>\n",
       "      <td>7.324722e+08</td>\n",
       "      <td>39719150.0</td>\n",
       "    </tr>\n",
       "    <tr>\n",
       "      <th>83392</th>\n",
       "      <td>1</td>\n",
       "      <td>86400.0</td>\n",
       "      <td>7.803816e+08</td>\n",
       "      <td>49306688.0</td>\n",
       "    </tr>\n",
       "    <tr>\n",
       "      <th>63840</th>\n",
       "      <td>1</td>\n",
       "      <td>30102.0</td>\n",
       "      <td>4.172635e+08</td>\n",
       "      <td>49193423.0</td>\n",
       "    </tr>\n",
       "    <tr>\n",
       "      <th>43330</th>\n",
       "      <td>1</td>\n",
       "      <td>211754.0</td>\n",
       "      <td>7.928569e+08</td>\n",
       "      <td>30332407.0</td>\n",
       "    </tr>\n",
       "    <tr>\n",
       "      <th>9093</th>\n",
       "      <td>1</td>\n",
       "      <td>172800.0</td>\n",
       "      <td>6.920234e+08</td>\n",
       "      <td>49080007.0</td>\n",
       "    </tr>\n",
       "    <tr>\n",
       "      <th>...</th>\n",
       "      <td>...</td>\n",
       "      <td>...</td>\n",
       "      <td>...</td>\n",
       "      <td>...</td>\n",
       "    </tr>\n",
       "    <tr>\n",
       "      <th>21243</th>\n",
       "      <td>2</td>\n",
       "      <td>200473.0</td>\n",
       "      <td>1.250637e+09</td>\n",
       "      <td>87067431.0</td>\n",
       "    </tr>\n",
       "    <tr>\n",
       "      <th>45891</th>\n",
       "      <td>2</td>\n",
       "      <td>307428.0</td>\n",
       "      <td>1.130439e+09</td>\n",
       "      <td>70699978.0</td>\n",
       "    </tr>\n",
       "    <tr>\n",
       "      <th>42613</th>\n",
       "      <td>3</td>\n",
       "      <td>426361.0</td>\n",
       "      <td>1.152880e+09</td>\n",
       "      <td>102127581.0</td>\n",
       "    </tr>\n",
       "    <tr>\n",
       "      <th>43567</th>\n",
       "      <td>1</td>\n",
       "      <td>86399.0</td>\n",
       "      <td>4.213164e+08</td>\n",
       "      <td>38169915.0</td>\n",
       "    </tr>\n",
       "    <tr>\n",
       "      <th>68268</th>\n",
       "      <td>4</td>\n",
       "      <td>385369.0</td>\n",
       "      <td>8.395490e+08</td>\n",
       "      <td>163310221.0</td>\n",
       "    </tr>\n",
       "  </tbody>\n",
       "</table>\n",
       "<p>85484 rows × 4 columns</p>\n",
       "</div>"
      ],
      "text/plain": [
       "       Session Frequency  Total Duration      Total DL     Total UL\n",
       "10268                  1         10540.0  7.324722e+08   39719150.0\n",
       "83392                  1         86400.0  7.803816e+08   49306688.0\n",
       "63840                  1         30102.0  4.172635e+08   49193423.0\n",
       "43330                  1        211754.0  7.928569e+08   30332407.0\n",
       "9093                   1        172800.0  6.920234e+08   49080007.0\n",
       "...                  ...             ...           ...          ...\n",
       "21243                  2        200473.0  1.250637e+09   87067431.0\n",
       "45891                  2        307428.0  1.130439e+09   70699978.0\n",
       "42613                  3        426361.0  1.152880e+09  102127581.0\n",
       "43567                  1         86399.0  4.213164e+08   38169915.0\n",
       "68268                  4        385369.0  8.395490e+08  163310221.0\n",
       "\n",
       "[85484 rows x 4 columns]"
      ]
     },
     "execution_count": 42,
     "metadata": {},
     "output_type": "execute_result"
    }
   ],
   "source": [
    "x_train"
   ]
  },
  {
   "cell_type": "code",
   "execution_count": 43,
   "metadata": {},
   "outputs": [
    {
     "data": {
      "text/plain": [
       "10268    1.219864e+08\n",
       "83392    1.458777e+08\n",
       "63840    3.569120e+07\n",
       "43330    1.523613e+08\n",
       "9093     1.016988e+08\n",
       "             ...     \n",
       "21243    3.815110e+08\n",
       "45891    3.211101e+08\n",
       "42613    3.332374e+08\n",
       "43567    3.399366e+07\n",
       "68268    1.847338e+08\n",
       "Name: Satisfaction Score, Length: 85484, dtype: float64"
      ]
     },
     "execution_count": 43,
     "metadata": {},
     "output_type": "execute_result"
    }
   ],
   "source": [
    "y_train"
   ]
  },
  {
   "cell_type": "code",
   "execution_count": 44,
   "metadata": {},
   "outputs": [],
   "source": [
    "y_pred = linear_regression.predict(x_test)"
   ]
  },
  {
   "cell_type": "code",
   "execution_count": 45,
   "metadata": {},
   "outputs": [
    {
     "data": {
      "text/plain": [
       "array([3.31430391e+08, 1.48145393e+08, 4.35504127e+07, ...,\n",
       "       1.51824070e+08, 1.43213778e+08, 6.51372352e+07])"
      ]
     },
     "execution_count": 45,
     "metadata": {},
     "output_type": "execute_result"
    }
   ],
   "source": [
    "y_pred"
   ]
  },
  {
   "cell_type": "code",
   "execution_count": 46,
   "metadata": {},
   "outputs": [
    {
     "name": "stdout",
     "output_type": "stream",
     "text": [
      "R-squared score: 0.7240355957385219\n",
      "Mean Squared Error: 8896596356340996.0\n"
     ]
    }
   ],
   "source": [
    "from sklearn.metrics import r2_score\n",
    "\n",
    "mse = mean_squared_error(y_test, y_pred)\n",
    "r_squared = r2_score(y_test, y_pred)\n",
    "\n",
    "print(f'R-squared score: {r_squared}')\n",
    "print(f'Mean Squared Error: {mse}')"
   ]
  },
  {
   "cell_type": "markdown",
   "metadata": {},
   "source": [
    "#### GRADIENT BOOSTING REGRESSOR"
   ]
  },
  {
   "cell_type": "code",
   "execution_count": 47,
   "metadata": {},
   "outputs": [],
   "source": [
    "from sklearn.model_selection import train_test_split\n",
    "from sklearn.ensemble import GradientBoostingRegressor\n"
   ]
  },
  {
   "cell_type": "code",
   "execution_count": 48,
   "metadata": {},
   "outputs": [],
   "source": [
    "x = satisfaction_analysis[['Session Frequency', 'Total Duration', 'Total DL',\n",
    "       'Total UL']]\n",
    "y = satisfaction_analysis['Satisfaction Score']"
   ]
  },
  {
   "cell_type": "code",
   "execution_count": 49,
   "metadata": {},
   "outputs": [],
   "source": [
    "x_train, x_test, y_train, y_test = train_test_split(x, y, test_size = 0.2, random_state = 42)"
   ]
  },
  {
   "cell_type": "code",
   "execution_count": 50,
   "metadata": {},
   "outputs": [
    {
     "data": {
      "text/html": [
       "<style>#sk-container-id-4 {color: black;background-color: white;}#sk-container-id-4 pre{padding: 0;}#sk-container-id-4 div.sk-toggleable {background-color: white;}#sk-container-id-4 label.sk-toggleable__label {cursor: pointer;display: block;width: 100%;margin-bottom: 0;padding: 0.3em;box-sizing: border-box;text-align: center;}#sk-container-id-4 label.sk-toggleable__label-arrow:before {content: \"▸\";float: left;margin-right: 0.25em;color: #696969;}#sk-container-id-4 label.sk-toggleable__label-arrow:hover:before {color: black;}#sk-container-id-4 div.sk-estimator:hover label.sk-toggleable__label-arrow:before {color: black;}#sk-container-id-4 div.sk-toggleable__content {max-height: 0;max-width: 0;overflow: hidden;text-align: left;background-color: #f0f8ff;}#sk-container-id-4 div.sk-toggleable__content pre {margin: 0.2em;color: black;border-radius: 0.25em;background-color: #f0f8ff;}#sk-container-id-4 input.sk-toggleable__control:checked~div.sk-toggleable__content {max-height: 200px;max-width: 100%;overflow: auto;}#sk-container-id-4 input.sk-toggleable__control:checked~label.sk-toggleable__label-arrow:before {content: \"▾\";}#sk-container-id-4 div.sk-estimator input.sk-toggleable__control:checked~label.sk-toggleable__label {background-color: #d4ebff;}#sk-container-id-4 div.sk-label input.sk-toggleable__control:checked~label.sk-toggleable__label {background-color: #d4ebff;}#sk-container-id-4 input.sk-hidden--visually {border: 0;clip: rect(1px 1px 1px 1px);clip: rect(1px, 1px, 1px, 1px);height: 1px;margin: -1px;overflow: hidden;padding: 0;position: absolute;width: 1px;}#sk-container-id-4 div.sk-estimator {font-family: monospace;background-color: #f0f8ff;border: 1px dotted black;border-radius: 0.25em;box-sizing: border-box;margin-bottom: 0.5em;}#sk-container-id-4 div.sk-estimator:hover {background-color: #d4ebff;}#sk-container-id-4 div.sk-parallel-item::after {content: \"\";width: 100%;border-bottom: 1px solid gray;flex-grow: 1;}#sk-container-id-4 div.sk-label:hover label.sk-toggleable__label {background-color: #d4ebff;}#sk-container-id-4 div.sk-serial::before {content: \"\";position: absolute;border-left: 1px solid gray;box-sizing: border-box;top: 0;bottom: 0;left: 50%;z-index: 0;}#sk-container-id-4 div.sk-serial {display: flex;flex-direction: column;align-items: center;background-color: white;padding-right: 0.2em;padding-left: 0.2em;position: relative;}#sk-container-id-4 div.sk-item {position: relative;z-index: 1;}#sk-container-id-4 div.sk-parallel {display: flex;align-items: stretch;justify-content: center;background-color: white;position: relative;}#sk-container-id-4 div.sk-item::before, #sk-container-id-4 div.sk-parallel-item::before {content: \"\";position: absolute;border-left: 1px solid gray;box-sizing: border-box;top: 0;bottom: 0;left: 50%;z-index: -1;}#sk-container-id-4 div.sk-parallel-item {display: flex;flex-direction: column;z-index: 1;position: relative;background-color: white;}#sk-container-id-4 div.sk-parallel-item:first-child::after {align-self: flex-end;width: 50%;}#sk-container-id-4 div.sk-parallel-item:last-child::after {align-self: flex-start;width: 50%;}#sk-container-id-4 div.sk-parallel-item:only-child::after {width: 0;}#sk-container-id-4 div.sk-dashed-wrapped {border: 1px dashed gray;margin: 0 0.4em 0.5em 0.4em;box-sizing: border-box;padding-bottom: 0.4em;background-color: white;}#sk-container-id-4 div.sk-label label {font-family: monospace;font-weight: bold;display: inline-block;line-height: 1.2em;}#sk-container-id-4 div.sk-label-container {text-align: center;}#sk-container-id-4 div.sk-container {/* jupyter's `normalize.less` sets `[hidden] { display: none; }` but bootstrap.min.css set `[hidden] { display: none !important; }` so we also need the `!important` here to be able to override the default hidden behavior on the sphinx rendered scikit-learn.org. See: https://github.com/scikit-learn/scikit-learn/issues/21755 */display: inline-block !important;position: relative;}#sk-container-id-4 div.sk-text-repr-fallback {display: none;}</style><div id=\"sk-container-id-4\" class=\"sk-top-container\"><div class=\"sk-text-repr-fallback\"><pre>GradientBoostingRegressor(random_state=42)</pre><b>In a Jupyter environment, please rerun this cell to show the HTML representation or trust the notebook. <br />On GitHub, the HTML representation is unable to render, please try loading this page with nbviewer.org.</b></div><div class=\"sk-container\" hidden><div class=\"sk-item\"><div class=\"sk-estimator sk-toggleable\"><input class=\"sk-toggleable__control sk-hidden--visually\" id=\"sk-estimator-id-4\" type=\"checkbox\" checked><label for=\"sk-estimator-id-4\" class=\"sk-toggleable__label sk-toggleable__label-arrow\">GradientBoostingRegressor</label><div class=\"sk-toggleable__content\"><pre>GradientBoostingRegressor(random_state=42)</pre></div></div></div></div></div>"
      ],
      "text/plain": [
       "GradientBoostingRegressor(random_state=42)"
      ]
     },
     "execution_count": 50,
     "metadata": {},
     "output_type": "execute_result"
    }
   ],
   "source": [
    "gb_model = GradientBoostingRegressor(n_estimators=100, learning_rate=0.1, random_state=42)\n",
    "gb_model.fit(x_train, y_train)\n"
   ]
  },
  {
   "cell_type": "code",
   "execution_count": 51,
   "metadata": {},
   "outputs": [],
   "source": [
    "y_pred = gb_model.predict(x_test)"
   ]
  },
  {
   "cell_type": "code",
   "execution_count": 52,
   "metadata": {},
   "outputs": [
    {
     "name": "stdout",
     "output_type": "stream",
     "text": [
      "R-squared score: 0.9997748576853133\n",
      "Mean Squared Error: 7073030432952.009\n"
     ]
    }
   ],
   "source": [
    "mse = mean_squared_error(y_test, y_pred)\n",
    "r2score = r_squared = r2_score(y_test, y_pred)\n",
    "\n",
    "print(f'R-squared score: {r_squared}')\n",
    "print(f'Mean Squared Error: {mse}')"
   ]
  },
  {
   "cell_type": "markdown",
   "metadata": {},
   "source": [
    "### RANDOM FOREST REGRESSOR"
   ]
  },
  {
   "cell_type": "code",
   "execution_count": 53,
   "metadata": {},
   "outputs": [
    {
     "name": "stdout",
     "output_type": "stream",
     "text": [
      "Mean Squared Error: 1884107705886.884\n",
      "R² Score: 0.9999400267856835\n"
     ]
    }
   ],
   "source": [
    "from sklearn.model_selection import train_test_split\n",
    "from sklearn.ensemble import RandomForestRegressor\n",
    "from sklearn.metrics import mean_squared_error, r2_score\n",
    "\n",
    "# Assuming satisfaction_analysis contains the relevant columns\n",
    "X = satisfaction_analysis[['Session Frequency', 'Total Duration', 'Total DL', 'Total UL']]\n",
    "y = satisfaction_analysis['Satisfaction Score']\n",
    "\n",
    "# Split the data into training and testing sets\n",
    "X_train, X_test, y_train, y_test = train_test_split(X, y, test_size=0.2, random_state=42)\n",
    "\n",
    "# Build and train the RandomForestRegressor model\n",
    "rf_model = RandomForestRegressor(n_estimators=100, random_state=42)\n",
    "rf_model.fit(X_train, y_train)\n",
    "\n",
    "# Make predictions on the test set\n",
    "predictions = rf_model.predict(X_test)\n",
    "\n",
    "# Evaluate the model\n",
    "mse = mean_squared_error(y_test, predictions)\n",
    "r2 = r2_score(y_test, predictions)\n",
    "\n",
    "print(f\"Mean Squared Error: {mse}\")\n",
    "print(f\"R² Score: {r2}\")"
   ]
  },
  {
   "cell_type": "code",
   "execution_count": 101,
   "metadata": {},
   "outputs": [
    {
     "data": {
      "image/png": "[encoded data removed]",
      "text/plain": [
       "<Figure size 800x600 with 1 Axes>"
      ]
     },
     "metadata": {},
     "output_type": "display_data"
    }
   ],
   "source": [
    "plt.figure(figsize=(8, 6))\n",
    "plt.scatter(y_test, predictions, alpha=0.5)\n",
    "plt.title('Actual vs Predicted Satisfaction Score')\n",
    "plt.xlabel('Actual Satisfaction Score')\n",
    "plt.ylabel('Predicted Satisfaction Score')\n",
    "\n",
    "# Add a line for a perfect fit (y=x)\n",
    "x_line = np.linspace(min(y_test), max(y_test), 100)\n",
    "plt.plot(x_line, x_line, color='red', linestyle='--', label='Perfect Fit')\n",
    "\n",
    "plt.legend()\n",
    "plt.show()"
   ]
  },
  {
   "cell_type": "code",
   "execution_count": 125,
   "metadata": {},
   "outputs": [
    {
     "data": {
      "text/html": [
       "<div>\n",
       "<style scoped>\n",
       "    .dataframe tbody tr th:only-of-type {\n",
       "        vertical-align: middle;\n",
       "    }\n",
       "\n",
       "    .dataframe tbody tr th {\n",
       "        vertical-align: top;\n",
       "    }\n",
       "\n",
       "    .dataframe thead th {\n",
       "        text-align: right;\n",
       "    }\n",
       "</style>\n",
       "<table border=\"1\" class=\"dataframe\">\n",
       "  <thead>\n",
       "    <tr style=\"text-align: right;\">\n",
       "      <th></th>\n",
       "      <th>Session Frequency</th>\n",
       "      <th>Total Duration</th>\n",
       "      <th>Total DL</th>\n",
       "      <th>Total UL</th>\n",
       "    </tr>\n",
       "  </thead>\n",
       "  <tbody>\n",
       "    <tr>\n",
       "      <th>59324</th>\n",
       "      <td>1</td>\n",
       "      <td>15818.0</td>\n",
       "      <td>4.666630e+08</td>\n",
       "      <td>48806520.0</td>\n",
       "    </tr>\n",
       "    <tr>\n",
       "      <th>31505</th>\n",
       "      <td>4</td>\n",
       "      <td>345597.0</td>\n",
       "      <td>2.058373e+09</td>\n",
       "      <td>195059255.0</td>\n",
       "    </tr>\n",
       "    <tr>\n",
       "      <th>80647</th>\n",
       "      <td>1</td>\n",
       "      <td>86399.0</td>\n",
       "      <td>1.830021e+08</td>\n",
       "      <td>34381293.0</td>\n",
       "    </tr>\n",
       "    <tr>\n",
       "      <th>58444</th>\n",
       "      <td>1</td>\n",
       "      <td>26997.0</td>\n",
       "      <td>4.531904e+08</td>\n",
       "      <td>41086383.0</td>\n",
       "    </tr>\n",
       "    <tr>\n",
       "      <th>83706</th>\n",
       "      <td>1</td>\n",
       "      <td>15940.0</td>\n",
       "      <td>6.428234e+08</td>\n",
       "      <td>40797395.0</td>\n",
       "    </tr>\n",
       "    <tr>\n",
       "      <th>...</th>\n",
       "      <td>...</td>\n",
       "      <td>...</td>\n",
       "      <td>...</td>\n",
       "      <td>...</td>\n",
       "    </tr>\n",
       "    <tr>\n",
       "      <th>54886</th>\n",
       "      <td>2</td>\n",
       "      <td>259184.0</td>\n",
       "      <td>8.504367e+08</td>\n",
       "      <td>74599564.0</td>\n",
       "    </tr>\n",
       "    <tr>\n",
       "      <th>76820</th>\n",
       "      <td>1</td>\n",
       "      <td>115709.0</td>\n",
       "      <td>8.182726e+08</td>\n",
       "      <td>51756772.0</td>\n",
       "    </tr>\n",
       "    <tr>\n",
       "      <th>103694</th>\n",
       "      <td>1</td>\n",
       "      <td>31798.0</td>\n",
       "      <td>7.207885e+08</td>\n",
       "      <td>19672798.0</td>\n",
       "    </tr>\n",
       "    <tr>\n",
       "      <th>860</th>\n",
       "      <td>1</td>\n",
       "      <td>151005.0</td>\n",
       "      <td>6.224959e+08</td>\n",
       "      <td>38768519.0</td>\n",
       "    </tr>\n",
       "    <tr>\n",
       "      <th>15795</th>\n",
       "      <td>2</td>\n",
       "      <td>234071.0</td>\n",
       "      <td>8.633686e+08</td>\n",
       "      <td>92076953.0</td>\n",
       "    </tr>\n",
       "  </tbody>\n",
       "</table>\n",
       "<p>85484 rows × 4 columns</p>\n",
       "</div>"
      ],
      "text/plain": [
       "        Session Frequency  Total Duration      Total DL     Total UL\n",
       "59324                   1         15818.0  4.666630e+08   48806520.0\n",
       "31505                   4        345597.0  2.058373e+09  195059255.0\n",
       "80647                   1         86399.0  1.830021e+08   34381293.0\n",
       "58444                   1         26997.0  4.531904e+08   41086383.0\n",
       "83706                   1         15940.0  6.428234e+08   40797395.0\n",
       "...                   ...             ...           ...          ...\n",
       "54886                   2        259184.0  8.504367e+08   74599564.0\n",
       "76820                   1        115709.0  8.182726e+08   51756772.0\n",
       "103694                  1         31798.0  7.207885e+08   19672798.0\n",
       "860                     1        151005.0  6.224959e+08   38768519.0\n",
       "15795                   2        234071.0  8.633686e+08   92076953.0\n",
       "\n",
       "[85484 rows x 4 columns]"
      ]
     },
     "execution_count": 125,
     "metadata": {},
     "output_type": "execute_result"
    }
   ],
   "source": [
    "X_train"
   ]
  },
  {
   "cell_type": "markdown",
   "metadata": {},
   "source": [
    "#### Feature Importance for Random Forest"
   ]
  },
  {
   "cell_type": "code",
   "execution_count": 124,
   "metadata": {},
   "outputs": [
    {
     "name": "stdout",
     "output_type": "stream",
     "text": [
      "             Feature  Importance\n",
      "2           Total DL      0.9992\n",
      "3           Total UL      0.0005\n",
      "0  Session Frequency      0.0002\n",
      "1     Total Duration      0.0001\n"
     ]
    }
   ],
   "source": [
    "feature_importances = rf_model.feature_importances_\n",
    "feature_names = X.columns\n",
    "\n",
    "feature_importance_df = pd.DataFrame({'Feature': feature_names, 'Importance': feature_importances})\n",
    "feature_importance_df['Importance'] = feature_importance_df['Importance'].round(4)\n",
    "feature_importance_df = feature_importance_df.sort_values(by='Importance', ascending=False)\n",
    "\n",
    "print(feature_importance_df)"
   ]
  },
  {
   "cell_type": "markdown",
   "metadata": {},
   "source": [
    "#### Model Load and Train"
   ]
  },
  {
   "cell_type": "code",
   "execution_count": 119,
   "metadata": {},
   "outputs": [
    {
     "name": "stdout",
     "output_type": "stream",
     "text": [
      "Mean Squared Error on Test Data: 1884107705886.884\n",
      "R^2 Score: 0.9999400267856835\n"
     ]
    }
   ],
   "source": [
    "import joblib\n",
    "\n",
    "joblib.dump(rf_model, 'trained_model.joblib')\n",
    "\n",
    "loaded_model = joblib.load('trained_model.joblib')\n",
    "predictions = loaded_model.predict(X_test)\n",
    "\n",
    "mse = mean_squared_error(y_test, predictions)\n",
    "r2 = r2_score(y_test, predictions)\n",
    "\n",
    "print(f'Mean Squared Error on Test Data: {mse}')\n",
    "print(f\"R^2 Score: {r2}\")"
   ]
  },
  {
   "cell_type": "code",
   "execution_count": 128,
   "metadata": {},
   "outputs": [
    {
     "data": {
      "text/html": [
       "<div>\n",
       "<style scoped>\n",
       "    .dataframe tbody tr th:only-of-type {\n",
       "        vertical-align: middle;\n",
       "    }\n",
       "\n",
       "    .dataframe tbody tr th {\n",
       "        vertical-align: top;\n",
       "    }\n",
       "\n",
       "    .dataframe thead th {\n",
       "        text-align: right;\n",
       "    }\n",
       "</style>\n",
       "<table border=\"1\" class=\"dataframe\">\n",
       "  <thead>\n",
       "    <tr style=\"text-align: right;\">\n",
       "      <th></th>\n",
       "      <th>Session Frequency</th>\n",
       "      <th>Total Duration</th>\n",
       "      <th>Total DL</th>\n",
       "      <th>Total UL</th>\n",
       "    </tr>\n",
       "  </thead>\n",
       "  <tbody>\n",
       "    <tr>\n",
       "      <th>59324</th>\n",
       "      <td>1</td>\n",
       "      <td>15818.0</td>\n",
       "      <td>4.666630e+08</td>\n",
       "      <td>48806520.0</td>\n",
       "    </tr>\n",
       "    <tr>\n",
       "      <th>31505</th>\n",
       "      <td>4</td>\n",
       "      <td>345597.0</td>\n",
       "      <td>2.058373e+09</td>\n",
       "      <td>195059255.0</td>\n",
       "    </tr>\n",
       "    <tr>\n",
       "      <th>80647</th>\n",
       "      <td>1</td>\n",
       "      <td>86399.0</td>\n",
       "      <td>1.830021e+08</td>\n",
       "      <td>34381293.0</td>\n",
       "    </tr>\n",
       "    <tr>\n",
       "      <th>58444</th>\n",
       "      <td>1</td>\n",
       "      <td>26997.0</td>\n",
       "      <td>4.531904e+08</td>\n",
       "      <td>41086383.0</td>\n",
       "    </tr>\n",
       "    <tr>\n",
       "      <th>83706</th>\n",
       "      <td>1</td>\n",
       "      <td>15940.0</td>\n",
       "      <td>6.428234e+08</td>\n",
       "      <td>40797395.0</td>\n",
       "    </tr>\n",
       "    <tr>\n",
       "      <th>...</th>\n",
       "      <td>...</td>\n",
       "      <td>...</td>\n",
       "      <td>...</td>\n",
       "      <td>...</td>\n",
       "    </tr>\n",
       "    <tr>\n",
       "      <th>54886</th>\n",
       "      <td>2</td>\n",
       "      <td>259184.0</td>\n",
       "      <td>8.504367e+08</td>\n",
       "      <td>74599564.0</td>\n",
       "    </tr>\n",
       "    <tr>\n",
       "      <th>76820</th>\n",
       "      <td>1</td>\n",
       "      <td>115709.0</td>\n",
       "      <td>8.182726e+08</td>\n",
       "      <td>51756772.0</td>\n",
       "    </tr>\n",
       "    <tr>\n",
       "      <th>103694</th>\n",
       "      <td>1</td>\n",
       "      <td>31798.0</td>\n",
       "      <td>7.207885e+08</td>\n",
       "      <td>19672798.0</td>\n",
       "    </tr>\n",
       "    <tr>\n",
       "      <th>860</th>\n",
       "      <td>1</td>\n",
       "      <td>151005.0</td>\n",
       "      <td>6.224959e+08</td>\n",
       "      <td>38768519.0</td>\n",
       "    </tr>\n",
       "    <tr>\n",
       "      <th>15795</th>\n",
       "      <td>2</td>\n",
       "      <td>234071.0</td>\n",
       "      <td>8.633686e+08</td>\n",
       "      <td>92076953.0</td>\n",
       "    </tr>\n",
       "  </tbody>\n",
       "</table>\n",
       "<p>85484 rows × 4 columns</p>\n",
       "</div>"
      ],
      "text/plain": [
       "        Session Frequency  Total Duration      Total DL     Total UL\n",
       "59324                   1         15818.0  4.666630e+08   48806520.0\n",
       "31505                   4        345597.0  2.058373e+09  195059255.0\n",
       "80647                   1         86399.0  1.830021e+08   34381293.0\n",
       "58444                   1         26997.0  4.531904e+08   41086383.0\n",
       "83706                   1         15940.0  6.428234e+08   40797395.0\n",
       "...                   ...             ...           ...          ...\n",
       "54886                   2        259184.0  8.504367e+08   74599564.0\n",
       "76820                   1        115709.0  8.182726e+08   51756772.0\n",
       "103694                  1         31798.0  7.207885e+08   19672798.0\n",
       "860                     1        151005.0  6.224959e+08   38768519.0\n",
       "15795                   2        234071.0  8.633686e+08   92076953.0\n",
       "\n",
       "[85484 rows x 4 columns]"
      ]
     },
     "execution_count": 128,
     "metadata": {},
     "output_type": "execute_result"
    }
   ],
   "source": [
    "X_train"
   ]
  },
  {
   "cell_type": "markdown",
   "metadata": {},
   "source": [
    "#### Prediction of the Satisfaction Score"
   ]
  },
  {
   "cell_type": "code",
   "execution_count": 131,
   "metadata": {},
   "outputs": [
    {
     "name": "stdout",
     "output_type": "stream",
     "text": [
      "Predicted Satisfaction Score: 181343570.45477405\n"
     ]
    }
   ],
   "source": [
    "feature_columns = ['Session Frequency' , 'Total Duration', 'Total DL', 'Total UL',]\n",
    "\n",
    "\n",
    "predict_satisfaction_score = pd.DataFrame([[2,259184.0,8.504367e+08,74599564.0]],\n",
    "                                   columns=feature_columns)\n",
    "\n",
    "\n",
    "predicted_satisfaction_score = loaded_model.predict(predict_satisfaction_score)\n",
    "\n",
    "print(f'Predicted Satisfaction Score: {predicted_satisfaction_score[0]}')"
   ]
  },
  {
   "cell_type": "code",
   "execution_count": 132,
   "metadata": {},
   "outputs": [
    {
     "name": "stdout",
     "output_type": "stream",
     "text": [
      "Predicted Satisfaction Score: 67083935.94459121\n"
     ]
    }
   ],
   "source": [
    "feature_columns = ['Session Frequency' , 'Total Duration', 'Total DL', 'Total UL',]\n",
    "\n",
    "\n",
    "predict_satisfaction_score1 = pd.DataFrame([[1, 151005.0, 6.224959e+08, 38768519.0]],\n",
    "                                   columns=feature_columns)\n",
    "\n",
    "\n",
    "predicted_satisfaction_score1 = loaded_model.predict(predict_satisfaction_score1)\n",
    "\n",
    "print(f'Predicted Satisfaction Score: {predicted_satisfaction_score1[0]}')"
   ]
  },
  {
   "cell_type": "markdown",
   "metadata": {},
   "source": [
    "### Run K Mean (k=2)"
   ]
  },
  {
   "cell_type": "code",
   "execution_count": 67,
   "metadata": {},
   "outputs": [],
   "source": [
    "combined_scores = pd.concat([engagement_metrics['Engagement Score'], experience_metrics['Experience Score']])"
   ]
  },
  {
   "cell_type": "code",
   "execution_count": 68,
   "metadata": {},
   "outputs": [
    {
     "name": "stderr",
     "output_type": "stream",
     "text": [
      "/Users/jagsanad/anaconda3/lib/python3.11/site-packages/sklearn/cluster/_kmeans.py:870: FutureWarning: The default value of `n_init` will change from 10 to 'auto' in 1.4. Set the value of `n_init` explicitly to suppress the warning\n",
      "  warnings.warn(\n"
     ]
    },
    {
     "name": "stdout",
     "output_type": "stream",
     "text": [
      "0                                           354198986.537323\n",
      "1                                           368058460.599662\n",
      "2                                            68546724.873552\n",
      "3                                            90862868.512531\n",
      "4                                           875738860.339592\n",
      "                                 ...                        \n",
      "106852                                              0.999317\n",
      "106853                                              0.999317\n",
      "106854                                              0.999317\n",
      "106855                                              0.999317\n",
      "Cluster    [0, 0, 0, 0, 1, 0, 0, 0, 0, 0, 0, 0, 0, 0, 0, ...\n",
      "Length: 213713, dtype: object\n"
     ]
    }
   ],
   "source": [
    "from sklearn.preprocessing import StandardScaler\n",
    "\n",
    "combined_scores_reshaped = combined_scores.values.reshape(-1, 1)\n",
    "\n",
    "# Standardize the data (important for k-means)\n",
    "scaler = StandardScaler()\n",
    "combined_scores_scaled = scaler.fit_transform(combined_scores_reshaped)\n",
    "\n",
    "# Perform k-means clustering\n",
    "kmeans = KMeans(n_clusters=2, random_state=42)\n",
    "combined_scores['Cluster'] = kmeans.fit_predict(combined_scores_scaled)\n",
    "\n",
    "# The 'Cluster' column now contains the cluster assignments for each row\n",
    "\n",
    "# Print or analyze the results\n",
    "\n",
    "print(combined_scores)\n"
   ]
  },
  {
   "cell_type": "markdown",
   "metadata": {},
   "source": [
    "* Observation:\n",
    "\n",
    "The 'combined_scores' DataFrame includes a mix of numerical values, representing 'Engagement Score' and 'Experience Score' metrics.\n",
    "\n",
    "* K-Means Clustering:\n",
    "\n",
    "You applied k-means clustering with 2 clusters to the standardized scores.\n",
    "The 'Cluster' column was added, assigning each data point to Cluster 0 or Cluster 1.\n",
    "\n",
    "* Interpretation:\n",
    "\n",
    "The scores have been grouped into two clusters based on their similarity, as determined by the k-means algorithm.\n",
    "\n",
    "##### Conclusion:\n",
    "\n",
    "* The presence of two clusters suggests that there are distinct patterns or differences in the combined 'Engagement Score' and 'Experience Score' metrics.\n",
    "\n",
    "* Further investigation is needed to understand the characteristics of each cluster and what they represent in the context of your data.\n",
    "\n",
    "* Visualization of the clusters and analysis of cluster characteristics (e.g., mean scores) would provide more insights into the segmentation of your data.\n",
    "\n",
    "* Consider domain-specific knowledge to interpret the practical implications of these clusters, and evaluate whether the clustering aligns with any known patterns or expectations.\n"
   ]
  },
  {
   "cell_type": "markdown",
   "metadata": {},
   "source": [
    "### **Aggregate average satisfaction and experience score per cluster**"
   ]
  },
  {
   "cell_type": "code",
   "execution_count": 72,
   "metadata": {},
   "outputs": [
    {
     "name": "stdout",
     "output_type": "stream",
     "text": [
      "satisfaction_analysis columns: Index(['MSISDN/Number', 'Session Frequency', 'Total Duration', 'Total DL',\n",
      "       'Total UL', 'TCP DL Retrans. Vol (Bytes)',\n",
      "       'TCP UL Retrans. Vol (Bytes)', 'Avg RTT DL (ms)', 'Avg RTT UL (ms)',\n",
      "       'Handset Type', 'Avg Bearer TP DL (kbps)', 'Avg Bearer TP UL (kbps)',\n",
      "       'Satisfaction Score'],\n",
      "      dtype='object')\n",
      "experience_metrics columns: Index(['MSISDN/Number', 'TCP DL Retrans. Vol (Bytes)',\n",
      "       'TCP UL Retrans. Vol (Bytes)', 'Avg RTT DL (ms)', 'Avg RTT UL (ms)',\n",
      "       'Handset Type', 'Avg Bearer TP DL (kbps)', 'Avg Bearer TP UL (kbps)',\n",
      "       'Cluster', 'Euclidean Distance', 'Experience Score'],\n",
      "      dtype='object')\n"
     ]
    }
   ],
   "source": [
    "print(\"satisfaction_analysis columns:\", satisfaction_analysis.columns)\n",
    "print(\"experience_metrics columns:\", experience_metrics.columns)"
   ]
  },
  {
   "cell_type": "code",
   "execution_count": 74,
   "metadata": {},
   "outputs": [
    {
     "name": "stdout",
     "output_type": "stream",
     "text": [
      "   Cluster  Satisfaction Score  Experience Score\n",
      "0        0        1.658463e+08          0.998798\n",
      "1        1        3.554031e+08          0.648617\n"
     ]
    }
   ],
   "source": [
    "combined_scores = pd.merge(satisfaction_analysis, experience_metrics[['MSISDN/Number', 'Cluster', 'Experience Score']], on='MSISDN/Number')\n",
    "\n",
    "# Aggregate the average satisfaction and experience scores per cluster\n",
    "cluster_aggregation = combined_scores.groupby('Cluster').agg({\n",
    "    'Satisfaction Score': 'mean',\n",
    "    'Experience Score': 'mean'\n",
    "}).reset_index()\n",
    "\n",
    "print(cluster_aggregation)"
   ]
  },
  {
   "cell_type": "markdown",
   "metadata": {},
   "source": [
    "##### **Interpretation:**\n",
    "\n",
    "* Cluster 0:\n",
    "\n",
    "Satisfaction Score: The average satisfaction score for Cluster 0 is approximately 1.66e+08.\n",
    "Experience Score: The average experience score for Cluster 0 is around 0.9988.\n",
    "\n",
    "* Cluster 1:\n",
    "\n",
    "Satisfaction Score: The average satisfaction score for Cluster 1 is approximately 3.55e+08.\n",
    "Experience Score: The average experience score for Cluster 1 is about 0.6486.\n",
    "\n",
    "##### **Conclusions:**\n",
    "\n",
    "* Cluster Comparison:\n",
    "\n",
    "Cluster 1 has significantly higher average satisfaction scores compared to Cluster 0.\n",
    "However, Cluster 0 has a higher average experience score compared to Cluster 1.\n",
    "\n",
    "* Customer Segmentation:\n",
    "\n",
    "The clusters seem to represent different segments of customers based on their satisfaction and experience scores.\n",
    "\n",
    "Cluster 1 stands out for having higher satisfaction, indicating that customers in this cluster are generally more satisfied.\n",
    "\n",
    "Cluster 0, on the other hand, has a higher experience score, suggesting that while satisfaction might be lower, the overall experience is rated higher in this cluster.\n",
    "\n",
    "* Action Items:\n",
    "\n",
    "For Cluster 1: Focus on maintaining and improving satisfaction levels as they are already high.\n",
    "\n",
    "For Cluster 0: Consider investigating factors contributing to lower satisfaction despite a higher experience score. Identify areas for improvement to enhance overall customer satisfaction.\n",
    "\n",
    "* Further Analysis:\n",
    "\n",
    "Explore additional factors that may contribute to satisfaction and experience, such as specific services, products, or customer interactions.\n",
    "\n",
    "Consider conducting customer surveys or feedback sessions to gather qualitative insights and better understand the reasons behind the satisfaction and experience scores."
   ]
  },
  {
   "cell_type": "markdown",
   "metadata": {},
   "source": [
    "### Export dataset to csv"
   ]
  },
  {
   "cell_type": "code",
   "execution_count": 79,
   "metadata": {},
   "outputs": [
    {
     "name": "stdout",
     "output_type": "stream",
     "text": [
      "Dataset exported to output_combined_dataset.csv\n"
     ]
    }
   ],
   "source": [
    "data = {\n",
    "    'Satisfaction': [satisfaction_analysis],\n",
    "    'Experience': [experience_metrics],\n",
    "    'Engagement': [engagement_metrics]\n",
    "}\n",
    "\n",
    "# Assuming index_values is your desired index\n",
    "index_values = ['row1']\n",
    "\n",
    "telco = pd.DataFrame(data, index=index_values)\n",
    "\n",
    "# Export DataFrame to CSV\n",
    "csv_file_path = 'output_combined_dataset.csv'\n",
    "telco.to_csv(csv_file_path)\n",
    "\n",
    "print(f'Dataset exported to {csv_file_path}')"
   ]
  },
  {
   "cell_type": "code",
   "execution_count": null,
   "metadata": {},
   "outputs": [],
   "source": [
    "data = {\n",
    "    'Satisfaction': [satisfaction_analysis],\n",
    "    'Experience': [experience_metrics],\n",
    "    'Engagement': [engagement_metrics]\n",
    "}\n",
    "\n",
    "# Assuming index_values is your desired index\n",
    "index_values = ['row1']\n",
    "\n",
    "telco = pd.DataFrame(data, index=index_values)\n",
    "\n",
    "# Export DataFrame to CSV\n",
    "csv_file_path = 'output_combined_dataset.csv'\n",
    "telco.to_csv(csv_file_path)\n",
    "\n",
    "print(f'Dataset exported to {csv_file_path}')"
   ]
  },
  {
   "cell_type": "code",
   "execution_count": 96,
   "metadata": {},
   "outputs": [
    {
     "name": "stdout",
     "output_type": "stream",
     "text": [
      "Dataset exported to satisfaction_dataset.csv\n"
     ]
    }
   ],
   "source": [
    "data = {\n",
    "    'Satisfaction': [satisfaction_analysis]\n",
    "}\n",
    "\n",
    "# Assuming index_values is your desired index\n",
    "index_values = ['row1']\n",
    "\n",
    "telco = pd.DataFrame(data, index=index_values)\n",
    "\n",
    "# Export DataFrame to CSV\n",
    "csv_file_path = 'satisfaction_dataset.csv'\n",
    "telco.to_csv(csv_file_path)\n",
    "\n",
    "print(f'Dataset exported to {csv_file_path}')"
   ]
  },
  {
   "cell_type": "code",
   "execution_count": 102,
   "metadata": {},
   "outputs": [
    {
     "name": "stdout",
     "output_type": "stream",
     "text": [
      "Data exported to satisfaction_data.csv\n"
     ]
    }
   ],
   "source": [
    "satisfaction_data = pd.DataFrame(satisfaction_analysis)\n",
    "\n",
    "csv_file_path = 'satisfaction_data.csv'\n",
    "\n",
    "# Save DataFrame to CSV\n",
    "satisfaction_data.to_csv(csv_file_path, index=False)\n",
    "\n",
    "print(f'Data exported to {csv_file_path}')"
   ]
  },
  {
   "cell_type": "code",
   "execution_count": 103,
   "metadata": {},
   "outputs": [
    {
     "name": "stdout",
     "output_type": "stream",
     "text": [
      "Data exported to engagement_data.csv\n"
     ]
    }
   ],
   "source": [
    "engagement_data = pd.DataFrame(engagement_metrics)\n",
    "\n",
    "csv_file_path = 'engagement_data.csv'\n",
    "\n",
    "# Save DataFrame to CSV\n",
    "engagement_data.to_csv(csv_file_path, index=False)\n",
    "\n",
    "print(f'Data exported to {csv_file_path}')"
   ]
  },
  {
   "cell_type": "code",
   "execution_count": 104,
   "metadata": {},
   "outputs": [
    {
     "name": "stdout",
     "output_type": "stream",
     "text": [
      "Data exported to experience_data.csv\n"
     ]
    }
   ],
   "source": [
    "experience_data = pd.DataFrame(experience_metrics)\n",
    "\n",
    "csv_file_path = 'experience_data.csv'\n",
    "\n",
    "# Save DataFrame to CSV\n",
    "experience_data.to_csv(csv_file_path, index=False)\n",
    "\n",
    "print(f'Data exported to {csv_file_path}')"
   ]
  },
  {
   "cell_type": "markdown",
   "metadata": {},
   "source": [
    "#### **FINAL CONCLUSION AND RECOMMENDATION**"
   ]
  },
  {
   "cell_type": "markdown",
   "metadata": {},
   "source": [
    "Based on the comprehensive analysis of TelCo's telecommunication dataset, the findings suggest positive growth potential for the company. The insights derived from market dominance, user engagement clusters, application usage, network performance, and satisfaction analysis provide a solid foundation for strategic decision-making. Therefore, it is recommended that your employer considers acquiring TelCo's telecom business.\n",
    "\n",
    "**Key Reasons for Recommendation:**\n",
    "\n",
    "•⁠  ⁠Targeted Marketing Opportunities: The identification of market-dominant players and user engagement clusters allows for the development of targeted marketing strategies. Aligning with key industry giants and tailoring approaches to specific user groups can significantly enhance the effectiveness of marketing initiatives.\n",
    "\n",
    "•⁠  ⁠Optimized Resource Allocation: The segmentation of user engagement clusters facilitates optimized resource allocation. By tailoring strategies to the preferences and behaviors of each cluster, the marketing team can efficiently allocate resources, ensuring maximum impact on the identified target audience.\n",
    "\n",
    "•⁠  ⁠Service Enhancement Opportunities: Insights into application usage, network performance, and device characteristics provide actionable information for service enhancement. By addressing network issues promptly and understanding user preferences, TelCo can improve overall service quality, leading to increased customer satisfaction.\n",
    "\n",
    "•⁠  ⁠Customer-Centric Initiatives: The satisfaction analysis and model building offer a comprehensive view of user satisfaction. Leveraging this information allows for the identification of top-performing customers and areas for improvement. Implementing customer-centric initiatives based on these insights can further elevate overall satisfaction levels.\n",
    "\n",
    "**Limitations of the Analysis:**\n",
    "\n",
    "While the analysis provides valuable insights, it's essential to acknowledge certain limitations:\n",
    "\n",
    "•⁠  ⁠Data Scope: The analysis relies on the available dataset, and the findings may be influenced by the scope and depth of the data. Incomplete or biased data may limit the accuracy of the conclusions drawn.\n",
    "\n",
    "•⁠  ⁠Market Dynamics: External factors such as economic conditions, regulatory changes, or technological advancements are not fully considered in the analysis. These factors can significantly impact the telecom industry's growth potential.\n",
    "\n",
    "•⁠  ⁠Competitive Landscape: The dataset primarily focuses on user behavior and network performance within TelCo's business. A more comprehensive understanding of the competitive landscape and market dynamics beyond the dataset would provide a more holistic view.\n",
    "\n",
    "**Recommendation on Acquisition:**\n",
    "\n",
    "Given the positive growth potential indicated by the analysis and the strategic opportunities outlined, it is recommended that your employer seriously considers the acquisition of TelCo's telecom business. However, it is crucial to conduct further due diligence, considering the limitations mentioned, and to assess the financial aspects and potential risks associated with the acquisition."
   ]
  }
 ],
 "metadata": {
  "kernelspec": {
   "display_name": "base",
   "language": "python",
   "name": "python3"
  },
  "language_info": {
   "codemirror_mode": {
    "name": "ipython",
    "version": 3
   },
   "file_extension": ".py",
   "mimetype": "text/x-python",
   "name": "python",
   "nbconvert_exporter": "python",
   "pygments_lexer": "ipython3",
   "version": "3.11.3"
  }
 },
 "nbformat": 4,
 "nbformat_minor": 2
}
